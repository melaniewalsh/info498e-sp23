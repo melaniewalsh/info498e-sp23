{
 "cells": [
  {
   "cell_type": "markdown",
   "id": "7549faa4-00c8-4528-826d-5f73e836516f",
   "metadata": {},
   "source": [
    "# Week 3 — Part 1 Exercises — Dictionaries, Packages"
   ]
  },
  {
   "cell_type": "markdown",
   "id": "175df0d1-984e-4f49-a60c-395420c11bbc",
   "metadata": {},
   "source": [
    "*Make sure that you work on these exercises and then submit a screenshot of your work to the appropriate assignment page in Canvas.*"
   ]
  },
  {
   "cell_type": "markdown",
   "id": "04a50b4e-ab3a-4b4b-8cfa-540b78b5d906",
   "metadata": {},
   "source": [
    "Install a Python package created by someone else — [vaderSentiment (GitHub documentation here)](https://github.com/cjhutto/vaderSentiment)"
   ]
  },
  {
   "cell_type": "code",
   "execution_count": null,
   "id": "5ef9d44f-f271-4504-8051-d252ea41e7c9",
   "metadata": {},
   "outputs": [],
   "source": [
    "!pip install vaderSentiment"
   ]
  },
  {
   "cell_type": "markdown",
   "id": "a138aa08-8dc0-4179-8302-2fd07d7eb5e9",
   "metadata": {},
   "source": [
    "Import the Python package or the specific object that you want"
   ]
  },
  {
   "cell_type": "code",
   "execution_count": 2,
   "id": "f9f0e3ad-0daa-46f9-884f-29e497b4d8e5",
   "metadata": {},
   "outputs": [],
   "source": [
    "from vaderSentiment.vaderSentiment import SentimentIntensityAnalyzer\n",
    "\n",
    "# Make our own instance of VADER's Sentiment Intensity Analyzer\n",
    "sentimentAnalyser = SentimentIntensityAnalyzer()"
   ]
  },
  {
   "cell_type": "markdown",
   "id": "8937d19b-50e9-4088-a884-7cc2f04b71bb",
   "metadata": {},
   "source": [
    "Use one of the `SentimentIntensityAnalyzer`'s methods, `.polarity_scores()`"
   ]
  },
  {
   "cell_type": "code",
   "execution_count": 3,
   "id": "00e6698f-f193-4272-8ab4-10f4297d89de",
   "metadata": {},
   "outputs": [
    {
     "data": {
      "text/plain": [
       "{'neg': 0.0, 'neu': 0.361, 'pos': 0.639, 'compound': 0.6486}"
      ]
     },
     "execution_count": 3,
     "metadata": {},
     "output_type": "execute_result"
    }
   ],
   "source": [
    "sentimentAnalyser.polarity_scores(\"I like the Marvel movies\")"
   ]
  },
  {
   "cell_type": "code",
   "execution_count": 44,
   "id": "4fb03d96-9268-46b3-bf13-a41ba9e87f0d",
   "metadata": {},
   "outputs": [
    {
     "data": {
      "text/plain": [
       "dict"
      ]
     },
     "execution_count": 44,
     "metadata": {},
     "output_type": "execute_result"
    }
   ],
   "source": [
    "type(sentimentAnalyser.polarity_scores(\"I like the Marvel movies\"))"
   ]
  },
  {
   "cell_type": "code",
   "execution_count": 41,
   "id": "386ad064-3273-470a-857d-c24358e143b6",
   "metadata": {},
   "outputs": [],
   "source": [
    "scores = sentimentAnalyser.polarity_scores(\"I like the Marvel movies\")"
   ]
  },
  {
   "cell_type": "markdown",
   "id": "fa38f658-5cfa-4837-9162-575712f7271d",
   "metadata": {},
   "source": [
    "## Exercise 1"
   ]
  },
  {
   "cell_type": "markdown",
   "id": "51bf766a-9415-492c-b5ff-8462c37259b6",
   "metadata": {},
   "source": [
    "Print out all the keys in the dictionary `scores`"
   ]
  },
  {
   "cell_type": "code",
   "execution_count": 14,
   "id": "6c519aed-184e-4cc9-8fff-8f60bd33a157",
   "metadata": {},
   "outputs": [
    {
     "name": "stdout",
     "output_type": "stream",
     "text": [
      "dict_keys(['neg', 'neu', 'pos', 'compound'])\n"
     ]
    }
   ],
   "source": [
    "#Your code here"
   ]
  },
  {
   "cell_type": "markdown",
   "id": "b106df65-7199-4c03-81d9-3ca80b543ce3",
   "metadata": {},
   "source": [
    "Print out all the values in the dictionary `scores`"
   ]
  },
  {
   "cell_type": "code",
   "execution_count": 13,
   "id": "b3dc404e-a373-468f-8472-5fd42ef86a66",
   "metadata": {},
   "outputs": [
    {
     "name": "stdout",
     "output_type": "stream",
     "text": [
      "dict_values([0.0, 0.361, 0.639, 0.6486])\n"
     ]
    }
   ],
   "source": [
    "#Your code here"
   ]
  },
  {
   "cell_type": "markdown",
   "id": "5591d971-db51-4d2c-9977-e15b83b2e5e8",
   "metadata": {},
   "source": [
    "Print out all the key, value pairs in the dictionary `scores`"
   ]
  },
  {
   "cell_type": "code",
   "execution_count": 11,
   "id": "37ab17fd-bcd2-4dff-b72a-e00648760ddd",
   "metadata": {},
   "outputs": [
    {
     "name": "stdout",
     "output_type": "stream",
     "text": [
      "neg 0.0\n",
      "neu 0.361\n",
      "pos 0.639\n",
      "compound 0.6486\n"
     ]
    }
   ],
   "source": [
    "#Your code here\n",
    "    #Your code here"
   ]
  },
  {
   "cell_type": "markdown",
   "id": "671c4923-d5da-453f-8e3c-e2ed62c651b8",
   "metadata": {},
   "source": [
    "## Exercise 2"
   ]
  },
  {
   "cell_type": "markdown",
   "id": "b529b33f-0922-4f4c-aa39-d4f535e9d366",
   "metadata": {},
   "source": [
    "Print out the \"negative\" score in the dictionary `scores`"
   ]
  },
  {
   "cell_type": "code",
   "execution_count": 15,
   "id": "2403fe52-c6ad-40d0-a41c-6177009e8d20",
   "metadata": {},
   "outputs": [
    {
     "name": "stdout",
     "output_type": "stream",
     "text": [
      "0.0\n"
     ]
    }
   ],
   "source": [
    "#Your code here"
   ]
  },
  {
   "cell_type": "markdown",
   "id": "90620a80-c2ce-44d2-93d1-4ae53cbe4182",
   "metadata": {},
   "source": [
    "Print out the \"positive\" score in the dictionary `scores`"
   ]
  },
  {
   "cell_type": "code",
   "execution_count": 16,
   "id": "e41f6245-00d1-4fcd-9ea9-17bfaf44108d",
   "metadata": {},
   "outputs": [
    {
     "name": "stdout",
     "output_type": "stream",
     "text": [
      "0.639\n"
     ]
    }
   ],
   "source": [
    "#Your code here"
   ]
  },
  {
   "cell_type": "markdown",
   "id": "f8f13ca6-3b6a-4206-8798-e763f9f0ca16",
   "metadata": {},
   "source": [
    "Print out the \"compound\" score in the dictionary `scores`"
   ]
  },
  {
   "cell_type": "code",
   "execution_count": 17,
   "id": "d689f12b-297d-4851-8a27-87bda93a5328",
   "metadata": {},
   "outputs": [
    {
     "name": "stdout",
     "output_type": "stream",
     "text": [
      "0.6486\n"
     ]
    }
   ],
   "source": [
    "#Your code here"
   ]
  },
  {
   "cell_type": "markdown",
   "id": "1916ddb2-e889-4d62-8d7a-156b06431310",
   "metadata": {},
   "source": [
    "## Exercise 3"
   ]
  },
  {
   "cell_type": "code",
   "execution_count": null,
   "id": "f339740c-923d-41ca-b8cd-5b313e29e50f",
   "metadata": {},
   "outputs": [],
   "source": [
    "sentences = [\"I like the Marvel movies\",\n",
    "             \"I don't like the Marvel movies\",\n",
    "             \"I despise the Marvel movies with every fiber of my being\",\n",
    "             \"I don't *not* live the Marvel movies\"]"
   ]
  },
  {
   "cell_type": "markdown",
   "id": "e44056b9-2324-4386-aef8-51eef9367740",
   "metadata": {},
   "source": [
    "Print out each sentence and the compound sentiment score for that sentence from the list `sentences` Hint: you will want to use a `for` loop"
   ]
  },
  {
   "cell_type": "code",
   "execution_count": 19,
   "id": "ad03d16e-bdaf-4b93-9dd9-c8ddc4bfe379",
   "metadata": {},
   "outputs": [
    {
     "name": "stdout",
     "output_type": "stream",
     "text": [
      "I like the Marvel movies 0.6486\n",
      "I don't like the Marvel movies -0.5334\n",
      "I despise the Marvel movies with every fiber of my being 0.1027\n",
      "I don't *not* live the Marvel movies -0.3252\n"
     ]
    }
   ],
   "source": [
    "#Your code here ->\n",
    "\n",
    "\n",
    "\n"
   ]
  },
  {
   "cell_type": "markdown",
   "id": "ae716e1c-21a5-44e8-b0f6-fa88af9a3ebb",
   "metadata": {},
   "source": [
    "## Exercise 4"
   ]
  },
  {
   "cell_type": "markdown",
   "id": "3115d803-fd83-4dc8-a40e-73ae6161cc60",
   "metadata": {},
   "source": [
    "Read through these reviews and record what you think the sentiment score *should* be (a score between -1 and 1): \n",
    "\n",
    "Review 1: Your guess here  \n",
    "Review 2: Your guess here  \n",
    "Review 3: Your guess here  "
   ]
  },
  {
   "cell_type": "markdown",
   "id": "d5aa18e5-808f-4815-a11b-bebfe33e1f9c",
   "metadata": {},
   "source": [
    "> Review 1. **5 star review**: I am so happy and thankful for books such as this, please put it in every school and public library and protect it as it frequently faces bad-faith challanges for removal. 2021 set a record for most number of challenges or bans to books in the US, with 1,597 books targeted across 729 challenges (for context there were 159 in 2020 and 377 in 2019). Preliminary data for 2022 shows it is still rapidly increasing. This book was cited by the American Library Association as the most challenged or banned book for the year (read the full list here) but don't let that turn you away. Gender Queer, a graphic memoir by Maia Kobabe, is such an honest and open look at the author’s own path through understanding gender and sexuality. This is a beautiful book that will be useful to anyone looking to reflect on better understand non-binary gender, particularly as the telling is so full of careful nuance that looks at all the many avenues and aspects of non-binary identity and shows how discovering the language to assess identity is key in helping process yourself. Using the Spivak pronouns e/em/eir, as in ‘ask em what’s in eir tea’, Kobabe shows how there are many ways to identify yourself in a way that feels true to yourself.\n",
    "\n",
    "> Review 2. **1 star review**: This has illustrations of child pornograpy and should not be in the youth section of public libraries. This is pornography and should be treated as such. People displaying this should be arrested for various penal codes regarding child annoyance, sexual harrassment, PC 288.2 (I'd be curious to know if this author is a registered sex offender). There are graphic illustrations of children involved in multiple sex acts (oral, etc.). REALLY? Is this what we have come to as a society!\n",
    "\n",
    "> Review 3. **3 star review**: 2.5 stars? i guess I wish I’d read this earlier in life, bc reading it now all i see are the aspects i don’t love. it’s not bad, it’s just not for me. e.g. repeated use of the phrase “gender nonbinary,” harry potter refs, a few plot lines I felt were unresolved, etc. the bit on biology and gender seems outdated/misinformed at best and pathologizing at worst. also felt kinda weird about the lack of /reflection/ on some things — like how ey talked a lot about writing sexual/romantic/etc fanfic abt real people, which is kinda controversial, and the idea of autoandrophilia, which seems like it comes from Blanchard ???? anyways i liked a lot of the art, esp the single-panel pages, and I do think Kobabe is very talented! this just didn’t hit me now like I think it may have if I’d read it like 5 years ago, before it even came out. I’m glad this book is important to so many people, but I just feel pretty (shrug) about it."
   ]
  },
  {
   "cell_type": "code",
   "execution_count": 9,
   "id": "52969b47-91d5-4ce8-87a6-37f531823994",
   "metadata": {},
   "outputs": [],
   "source": [
    "reviews = [\"\"\"I am so happy and thankful for books such as this, please put it in every school and public library and protect it as it frequently faces\n",
    " bad-faith challanges for removal. 2021 set a record for most number of challenges or bans to books in the US, with 1,597 books targeted across\n",
    " 729 challenges (for context there were 159 in 2020 and 377 in 2019). Preliminary data for 2022 shows it is still rapidly increasing. This book was\n",
    " cited by the American Library Association as the most challenged or banned book for the year (read the full list here) but don't let that turn you away.\n",
    " Gender Queer, a graphic memoir by Maia Kobabe, is such an honest and open look at the author’s own path through understanding gender and sexuality.\n",
    " This is a beautiful book that will be useful to anyone looking to reflect on better understand non-binary gender, particularly as the telling is so full of\n",
    " careful nuance that looks at all the many avenues and aspects of non-binary identity and shows how discovering the language to assess identity is key in \n",
    " helping process yourself. Using the Spivak pronouns e/em/eir, as in ‘ask em what’s in eir tea’, Kobabe shows how there are many ways to identify yourself\n",
    " in a way that feels true to yourself.\"\"\",\n",
    "           \n",
    "\"\"\"This has illustrations of child pornograpy and should not be in the youth section of public libraries. This is pornography and should be treated\n",
    "as such. People displaying this should be arrested for various penal codes regarding child annoyance, sexual harrassment, PC 288.2 \n",
    "(I'd be curious to know if this author is a registered sex offender). There are graphic illustrations of children involved in \n",
    "multiple sex acts (oral, etc.). REALLY? Is this what we have come to as a society!\"\"\",\n",
    "          \n",
    "\"\"\"2.5 stars? i guess I wish I’d read this earlier in life, bc reading it now all i see are the aspects i don’t love. it’s not bad,\n",
    "it’s just not for me. e.g. repeated use of the phrase “gender nonbinary,” harry potter refs, a few plot lines I felt were unresolved, etc. \n",
    "the bit on biology and gender seems outdated/misinformed at best and pathologizing at worst. also felt kinda weird about the lack of /reflection/ on \n",
    "some things — like how ey talked a lot about writing sexual/romantic/etc fanfic abt real people, which is kinda controversial, and the idea of\n",
    "autoandrophilia, which seems like it comes from Blanchard ???? anyways i liked a lot of the art, esp the single-panel pages, and I do think Kobabe\n",
    "is very talented! this just didn’t hit me now like I think it may have if I’d read it like 5 years ago, before it even came out. I’m glad this book\n",
    "is important to so many people, but I just feel pretty (shrug) about it.\"\"\"]"
   ]
  },
  {
   "cell_type": "markdown",
   "id": "c74ef255-ceab-4500-9d42-38d52304d2ce",
   "metadata": {},
   "source": [
    "Now loop through the reviews, and print out the compound sentiment score for each review"
   ]
  },
  {
   "cell_type": "code",
   "execution_count": null,
   "id": "e883974e-3ff2-42ae-8838-4124ce2334a0",
   "metadata": {},
   "outputs": [],
   "source": [
    "#Your code here ->\n",
    "\n",
    "\n",
    "\n",
    "\n",
    "\n"
   ]
  },
  {
   "cell_type": "markdown",
   "id": "43b07b08-5580-49c7-9a41-3a22306519d6",
   "metadata": {},
   "source": [
    "## Bonus Exercise!"
   ]
  },
  {
   "cell_type": "markdown",
   "id": "e1ea9f24-568f-4d3e-acf5-58083efed2ca",
   "metadata": {},
   "source": [
    "Instead of calculating the sentiment score for each review as a whole, see if you can calculate the average sentiment score for each review based on individual sentences. Split up each review into sentences, then calculate the compound sentiment score for each sentence, then calculate the average compound sentiment score for each review.\n",
    "\n",
    "Print out the average sentiment score for each review (based on sentences), and see how this compares to the sentiment score for the review as a whole. When you're done, share your code on Discord in #code-sharing"
   ]
  },
  {
   "cell_type": "code",
   "execution_count": null,
   "id": "745102f9-ee2f-4179-8504-15b7e95e0d7b",
   "metadata": {},
   "outputs": [],
   "source": [
    "#Your code here ->\n",
    "\n",
    "\n",
    "\n",
    "\n",
    "\n",
    "\n"
   ]
  }
 ],
 "metadata": {
  "kernelspec": {
   "display_name": "Python 3",
   "language": "python",
   "name": "python3"
  },
  "language_info": {
   "codemirror_mode": {
    "name": "ipython",
    "version": 3
   },
   "file_extension": ".py",
   "mimetype": "text/x-python",
   "name": "python",
   "nbconvert_exporter": "python",
   "pygments_lexer": "ipython3",
   "version": "3.8.8"
  }
 },
 "nbformat": 4,
 "nbformat_minor": 5
}
