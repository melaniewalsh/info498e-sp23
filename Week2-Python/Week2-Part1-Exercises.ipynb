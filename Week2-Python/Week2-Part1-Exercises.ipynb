{
 "cells": [
  {
   "cell_type": "markdown",
   "id": "cf80cd6e-1424-4e15-b1a4-506a4e66189b",
   "metadata": {},
   "source": [
    "# Week 2 — Lists and Loops"
   ]
  },
  {
   "cell_type": "markdown",
   "id": "46b0712e-8325-4e86-8d9f-60c79a625832",
   "metadata": {},
   "source": [
    "*Make sure that you work on these exercises and then submit a screenshot of your work to the appropriate assignment page in Canvas.*"
   ]
  },
  {
   "cell_type": "markdown",
   "id": "0d36c3a0-2e37-4a0b-8ef3-211421e55b88",
   "metadata": {},
   "source": [
    "## List/For Loop Exercises"
   ]
  },
  {
   "cell_type": "markdown",
   "id": "ec4aeca0-153d-4fe8-875e-61e1b8ffd182",
   "metadata": {},
   "source": [
    "### Exercise 1"
   ]
  },
  {
   "cell_type": "code",
   "execution_count": 15,
   "id": "dfd7f058-31ae-4c5e-8dcf-a11f7cddab37",
   "metadata": {},
   "outputs": [],
   "source": [
    "author_names = ['change-rae lee', 'mary oliver', 'tanehisi coates', 'philip roth']"
   ]
  },
  {
   "cell_type": "markdown",
   "id": "f850962d-53e7-4656-ada9-5aad8cbec5c8",
   "metadata": {},
   "source": [
    "Loop through the list `author_names` and print each author name with the first letter of both the first and last name capitalized"
   ]
  },
  {
   "cell_type": "code",
   "execution_count": null,
   "id": "450204de-5ce6-480d-9d7a-0a3b01301506",
   "metadata": {},
   "outputs": [],
   "source": [
    "# Your code here"
   ]
  },
  {
   "cell_type": "markdown",
   "id": "d7e387f5-48f2-4654-b8c7-250b26e193f2",
   "metadata": {},
   "source": [
    "### Exercise 2"
   ]
  },
  {
   "cell_type": "markdown",
   "id": "f6b6899f-0370-4131-a60d-a62358c7e7cc",
   "metadata": {},
   "source": [
    "Loop through the list `prize_amounts` and print \"Major literary prize\" if the amount is more than $10,000 or \"Not major literary prize\" if the amount is less"
   ]
  },
  {
   "cell_type": "code",
   "execution_count": null,
   "id": "de959d4f-4204-4cf1-9d56-5c6b125a8942",
   "metadata": {},
   "outputs": [],
   "source": [
    "prize_amounts = [10000, 500, 100000, 30000, 999]"
   ]
  },
  {
   "cell_type": "code",
   "execution_count": null,
   "id": "edf2e256-a3e6-4c54-b7ec-bc38007a0997",
   "metadata": {},
   "outputs": [],
   "source": [
    "# Your code here"
   ]
  },
  {
   "cell_type": "markdown",
   "id": "24085f28-213d-4e82-8e5f-41b0fc4030e1",
   "metadata": {},
   "source": [
    "### Exercise 3 (Kind of Hard)"
   ]
  },
  {
   "cell_type": "code",
   "execution_count": 15,
   "id": "1ca48ce6-af16-45be-ae4e-538741bb5395",
   "metadata": {},
   "outputs": [],
   "source": [
    "author_names = ['change-rae lee', 'mary oliver', 'tanehisi coates', 'philip roth']"
   ]
  },
  {
   "cell_type": "markdown",
   "id": "5835c258-1578-4595-bb16-3b1b77c899b2",
   "metadata": {},
   "source": [
    "See if you can create 2 new lists, `first_names` and `last_names`, by looping through `author_names` and using the `.split()` method"
   ]
  },
  {
   "cell_type": "code",
   "execution_count": null,
   "id": "6dacb43a-0e16-49dd-b97d-b14fe9cb7846",
   "metadata": {},
   "outputs": [],
   "source": [
    "# Your code here"
   ]
  },
  {
   "cell_type": "code",
   "execution_count": null,
   "id": "99e45fd7-7604-4727-8d39-7cfdecb4e9df",
   "metadata": {},
   "outputs": [],
   "source": [
    "print(first_names)"
   ]
  },
  {
   "cell_type": "code",
   "execution_count": null,
   "id": "8ff58e27-0dae-4d37-be8f-42049a236e7d",
   "metadata": {},
   "outputs": [],
   "source": [
    "print(last_names)"
   ]
  },
  {
   "cell_type": "markdown",
   "id": "e497a772-75e4-4532-94e1-c33ef70ca7f6",
   "metadata": {},
   "source": [
    "### Bonus! (Hard)"
   ]
  },
  {
   "cell_type": "markdown",
   "id": "1f58ce48-da31-4ffb-b235-1ab24381b200",
   "metadata": {},
   "source": [
    "See if you can loop through `abbrev_names`, and put periods after each abbreviated letter as well as remove white spaces between the abbreviated letters\n",
    "\n",
    "For example: \"J.D. McClatchy, L. Quincy Mumford\""
   ]
  },
  {
   "cell_type": "code",
   "execution_count": 21,
   "id": "e59d109d-19cc-440a-aa0f-d0fbe7f16c80",
   "metadata": {},
   "outputs": [],
   "source": [
    "abbrev_names = [\"J D McClatchy\" , \"L Quincy Mumford\", \"A R Gurney\", \"A R Ammons\"]  "
   ]
  },
  {
   "cell_type": "code",
   "execution_count": null,
   "id": "b1956e4b-97ac-4085-8209-36a3ac17c9e8",
   "metadata": {},
   "outputs": [],
   "source": []
  }
 ],
 "metadata": {
  "kernelspec": {
   "display_name": "Python 3",
   "language": "python",
   "name": "python3"
  },
  "language_info": {
   "codemirror_mode": {
    "name": "ipython",
    "version": 3
   },
   "file_extension": ".py",
   "mimetype": "text/x-python",
   "name": "python",
   "nbconvert_exporter": "python",
   "pygments_lexer": "ipython3",
   "version": "3.8.8"
  }
 },
 "nbformat": 4,
 "nbformat_minor": 5
}
