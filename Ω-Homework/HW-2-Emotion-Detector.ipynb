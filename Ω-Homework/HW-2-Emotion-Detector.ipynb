{
 "cells": [
  {
   "cell_type": "markdown",
   "metadata": {},
   "source": [
    "# HW 2 — Build Your Own Emotion Detector"
   ]
  },
  {
   "cell_type": "markdown",
   "metadata": {},
   "source": [
    "**Student Name**: Your name here  \n",
    "**(Double-click this cell to type)**"
   ]
  },
  {
   "cell_type": "markdown",
   "metadata": {},
   "source": [
    "In this homework assignment, you will be building your own \"emotion detector\" Python function, which will be able to read in any .txt file and print out the sentences that contain a certain emotion from that file. To do so, you will use the Python package VADER and its \"polarity scores\" (specifically, the compound score) to determine whether the sentence matches the emotion (this is an admittedly crude method). \n",
    "\n",
    "First, you need to decide what \"emotion\" or \"sentiment\" you want to capture — maybe it's \"elation\" or \"very positive\" or \"very negative\" or \"nonchalant.\" Then you need to decide how you will measure that emotion or sentiment using VADER's \"compound\" scores (-1 to 1).\n",
    "\n",
    "In the end, your function should accept a given .txt filename and return or print all the sentences that match the chosen emotion/sentiment next to the actual compound score for each sentence and a line break. You can earn 1 extra bonus point if you return or print only a select number of sentences based on a threshold (for example, the top 10 most positive or negative sentences from the text).\n",
    "\n",
    "Here are some things that you will need to do inside your function: read in the text file, split the text into sentences, consider each sentence and get its compound score with VADER, figure out if the sentence matches the emotion you're looking for, print or return the sentence plus the compound score and a line break if it matches."
   ]
  },
  {
   "cell_type": "markdown",
   "metadata": {},
   "source": [
    "**1.** What is the emotion/sentiment that you're trying to capture? How will you measure this emotion/sentiment with VADER's compound scores? Why this measurement? (2 points)"
   ]
  },
  {
   "cell_type": "code",
   "execution_count": 10,
   "metadata": {},
   "outputs": [],
   "source": [
    "# Answer in 2 or more sentneces, and convert to Markdown cell"
   ]
  },
  {
   "cell_type": "markdown",
   "metadata": {},
   "source": [
    "**2.** What is the text that you're choosing to analyze, and why? (You can pick any of the texts in JupyterHub, or you can upload a text of your own that you're interested in.) (2 points)"
   ]
  },
  {
   "cell_type": "code",
   "execution_count": 11,
   "metadata": {},
   "outputs": [],
   "source": [
    "# Answer in 2 or more sentneces, and convert to Markdown cell"
   ]
  },
  {
   "cell_type": "markdown",
   "metadata": {},
   "source": [
    "**3.** Create your Python function (make sure to give it a descriptive name) and comment out every single line of code with a description of what the line is doing (14 points)"
   ]
  },
  {
   "cell_type": "markdown",
   "metadata": {},
   "source": [
    "Remember, your function should accept a given .txt filename and return or print all the sentences that match the chosen emotion/sentiment, the actual compound score for each sentence, and a line break. You can earn 1 extra bonus point if you return or print only a select number of sentences based on a threshold (for example, the top 10 most positive or negative sentences from the text).\n",
    "\n",
    "Here are some things that you will need to do inside your function: read in the text file, split the text into sentences, consider each sentence and get its compound score with VADER, figure out if the sentence matches the emotion you're looking for, print or return the sentence plus the compound score and a line break if it matches.\n",
    "\n",
    "You are free to build this Python function however you want, using any tools that you want. If you decide to use ChatGPT, please make a comment that you did so.\n",
    "\n",
    "**REMEMBER: Every single line of code needs to have a comment above it, which explains what that line of code is doing.**"
   ]
  },
  {
   "cell_type": "code",
   "execution_count": null,
   "metadata": {},
   "outputs": [],
   "source": [
    "# Your code here\n",
    "\n",
    "\n",
    "\n",
    "\n",
    "\n",
    "\n",
    "\n",
    "\n",
    "\n",
    "\n",
    "\n",
    "\n",
    "\n",
    "\n",
    "\n",
    "\n"
   ]
  },
  {
   "cell_type": "markdown",
   "metadata": {},
   "source": [
    "**4.** Test out the function (1 point) (Example included below — change to your function)"
   ]
  },
  {
   "cell_type": "code",
   "execution_count": 9,
   "metadata": {},
   "outputs": [
    {
     "name": "stdout",
     "output_type": "stream",
     "text": [
      "I thought he might have the keys on him, but when I went to search I saw\n",
      "the dead eyes, and in them, dead though they were, such a look of hate,\n",
      "though unconscious of me or my presence, that I fled from the place, and\n",
      "leaving the Count's room by the window, crawled again up the castle\n",
      "wall. -0.9636 \n",
      "\n",
      "Oh, the terrible struggle that I\n",
      "have had against sleep so often of late; the pain of the sleeplessness,\n",
      "or the pain of the fear of sleep, with such unknown horrors as it has\n",
      "for me! -0.9674 \n",
      "\n",
      "There is no malign there, see, and so\n",
      "it make hard that I must kill her in her sleep.\" This turned my blood\n",
      "cold, and it began to dawn upon me that I was accepting Van Helsing's\n",
      "theories; but if she were really dead, what was there of terror in the\n",
      "idea of killing her? -0.9722 \n",
      "\n",
      "Then she put before her face her\n",
      "poor crushed hands, which bore on their whiteness the red mark of the\n",
      "Count's terrible grip, and from behind them came a low desolate wail\n",
      "which made the terrible scream seem only the quick expression of an\n",
      "endless grief. -0.9643 \n",
      "\n",
      "When to-day we meet, I must tell her that for reason which we will not\n",
      "to speak she must not more be of our council, but be simply guarded by\n",
      "us.\" He wiped his forehead, which had broken out in profuse perspiration\n",
      "at the thought of the pain which he might have to inflict upon the poor\n",
      "soul already so tortured. -0.9689 \n",
      "\n"
     ]
    }
   ],
   "source": [
    "very_negative_detector(\"../../texts/literature/Dracula_Bram-Stoker.txt\")"
   ]
  },
  {
   "cell_type": "markdown",
   "metadata": {},
   "source": [
    "**5** Do you think you're actually capturing the emotion/sentence that you're trying to capture? Why or why not? Use at least one excerpt from one sentence as evidence. (2 points)"
   ]
  },
  {
   "cell_type": "code",
   "execution_count": null,
   "metadata": {},
   "outputs": [],
   "source": [
    "# Answer in 2 or more sentneces, and convert to Markdown cell"
   ]
  },
  {
   "cell_type": "markdown",
   "metadata": {},
   "source": [
    "**6** If you had more time or knowledge, how would you want to improve or change your Python function to make it better? (2 points)"
   ]
  },
  {
   "cell_type": "code",
   "execution_count": null,
   "metadata": {},
   "outputs": [],
   "source": [
    "# Answer in 2 or more sentneces, and convert to Markdown cell"
   ]
  },
  {
   "cell_type": "markdown",
   "metadata": {},
   "source": [
    "## When You're Finished"
   ]
  },
  {
   "cell_type": "markdown",
   "metadata": {},
   "source": [
    "When you're finished, you should:\n",
    "\n",
    "1. Save your Jupyter notebook with your last name. To save your notebook, you can select File -> Save Notebook or File -> Save Notebook As...\n",
    "\n",
    "2. Download your Jupyter notebook file (.ipynb), and then upload it to Gradescope"
   ]
  }
 ],
 "metadata": {
  "kernelspec": {
   "display_name": "Python 3",
   "language": "python",
   "name": "python3"
  },
  "language_info": {
   "codemirror_mode": {
    "name": "ipython",
    "version": 3
   },
   "file_extension": ".py",
   "mimetype": "text/x-python",
   "name": "python",
   "nbconvert_exporter": "python",
   "pygments_lexer": "ipython3",
   "version": "3.8.8"
  },
  "varInspector": {
   "cols": {
    "lenName": 16,
    "lenType": 16,
    "lenVar": 40
   },
   "kernels_config": {
    "python": {
     "delete_cmd_postfix": "",
     "delete_cmd_prefix": "del ",
     "library": "var_list.py",
     "varRefreshCmd": "print(var_dic_list())"
    },
    "r": {
     "delete_cmd_postfix": ") ",
     "delete_cmd_prefix": "rm(",
     "library": "var_list.r",
     "varRefreshCmd": "cat(var_dic_list()) "
    }
   },
   "types_to_exclude": [
    "module",
    "function",
    "builtin_function_or_method",
    "instance",
    "_Feature"
   ],
   "window_display": false
  }
 },
 "nbformat": 4,
 "nbformat_minor": 4
}
