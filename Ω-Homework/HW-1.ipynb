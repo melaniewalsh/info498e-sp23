{
 "cells": [
  {
   "cell_type": "markdown",
   "metadata": {},
   "source": [
    "# HW 1"
   ]
  },
  {
   "cell_type": "markdown",
   "metadata": {},
   "source": [
    "This homework assignment will ask you to analyze Martha Ballard's diary, which should now exist as a text file in your `/texts/history/` directory. This assignment will help you review Python variables, data types, working with files, and directory structures. \n",
    "\n",
    "When you're finished, you should:\n",
    "\n",
    "- Save your Jupyter notebook with your last name  \n",
    "(Right-click the file and select \"Rename,\" e.g., \"HW-1-Your-Last-Name.ipynb\")\n",
    "\n",
    "- Upload the Jupyter notebook file (.ipynb) to [Gradescope](https://www.gradescope.com/courses/525690/assignments/2774377).\n",
    "\n",
    "For help with this homework, refer to the chapters [Variables](https://melaniewalsh.github.io/Intro-Cultural-Analytics/02-Python/04-Variables.html), [Data Types](https://melaniewalsh.github.io/Intro-Cultural-Analytics/02-Python/05-Data-Types.html), and [Files and Character Encoding](https://melaniewalsh.github.io/Intro-Cultural-Analytics/02-Python/07-Files-Character-Encoding.html)."
   ]
  },
  {
   "cell_type": "markdown",
   "metadata": {},
   "source": [
    "## Your Name Here"
   ]
  },
  {
   "cell_type": "markdown",
   "metadata": {},
   "source": [
    "**1.** Make a new Markdown cell below this one, and copy and paste the following text with your own name:  \n",
    "\n",
    "`Student Name: Your name here`    (1 point)"
   ]
  },
  {
   "cell_type": "markdown",
   "metadata": {},
   "source": [
    "## Madlibs with Martha Ballard"
   ]
  },
  {
   "cell_type": "markdown",
   "metadata": {},
   "source": [
    "**2.** The cell below contains the first lines of Martha Ballard's Wikipedia page. Convert this cell to \"Markdown\" and then add a relevant image from a URL below the quotation. (2 points).\n",
    "\n",
    "Refer to the [Markdown cheatsheet](https://github.com/adam-p/markdown-here/wiki/Markdown-Cheatsheet) for help. "
   ]
  },
  {
   "cell_type": "raw",
   "metadata": {},
   "source": [
    ">Martha Moore Ballard (February 9, 1735 – June 9, 1812) was an American midwife and healer.\n",
    "Unusually for the time, Ballard kept a diary with thousands of entries over nearly three decades, which has provided historians with invaluable insight into frontier-women's lives.\n",
    "Ballard was made famous by the publication of A Midwife's Tale: The Life of Martha Ballard based on her diary, 1785–1812 by historian Laurel Thatcher Ulrich in 1990.\n",
    "\n",
    "> -[Wikipedia](https://en.wikipedia.org/wiki/Martha_Ballard)\n",
    "\n",
    "# Your Markdown image here"
   ]
  },
  {
   "cell_type": "markdown",
   "metadata": {},
   "source": [
    "**3.** Go to Martha Ballard's [Wikipedia page](https://en.wikipedia.org/wiki/Martha_Ballard) (or look at the cell above) and find her name, birth year, and occupation. Assign these values to the corresponding variables below. You should also assign the current year to the variable `current_year`.\n",
    "\n",
    "Make sure `name` and `occupation` are strings. Make sure `birth_year` and `current_year` are integers. (2 points) "
   ]
  },
  {
   "cell_type": "code",
   "execution_count": null,
   "metadata": {},
   "outputs": [],
   "source": [
    "name ... #Your Code Here\n",
    "birth_year ... #Your Code Here\n",
    "occupation ... #Your Code Here\n",
    "current_year ... #Your Code Here"
   ]
  },
  {
   "cell_type": "markdown",
   "metadata": {},
   "source": [
    "**4.** Calculate how old Martha Ballard would be today by using two of the variables above and [a mathematical operator](https://melaniewalsh.github.io/Intro-Cultural-Analytics/02-Python/05-Data-Types.html#integers-floats). (Be sure to use the Python variable names and NOT the values.) (1 point)"
   ]
  },
  {
   "cell_type": "code",
   "execution_count": null,
   "metadata": {},
   "outputs": [],
   "source": [
    "#Your Code Here"
   ]
  },
  {
   "cell_type": "markdown",
   "metadata": {},
   "source": [
    "**5.** Assign the Python expression above to a new variable called `current_age`. (1 point)"
   ]
  },
  {
   "cell_type": "code",
   "execution_count": null,
   "metadata": {},
   "outputs": [],
   "source": [
    "current_age ... #Your Code Here"
   ]
  },
  {
   "cell_type": "markdown",
   "metadata": {},
   "source": [
    "**6.** Write a line of Python code that will output the statement printed below (with the correct information) using an f-string and the Python variables `name`, `occupation`, `birth_year`, and `current_age` (again, be sure to use the Python variable names and NOT the actual values). (2 points)"
   ]
  },
  {
   "cell_type": "code",
   "execution_count": 21,
   "metadata": {},
   "outputs": [
    {
     "name": "stdout",
     "output_type": "stream",
     "text": [
      "Martha Ballard was a blank. She was born in blank and today would be blank years old.\n"
     ]
    }
   ],
   "source": [
    "#Your Code Here"
   ]
  },
  {
   "cell_type": "markdown",
   "metadata": {},
   "source": [
    "## Reading Martha Ballard's Diary"
   ]
  },
  {
   "cell_type": "markdown",
   "metadata": {},
   "source": [
    "**7.** You should have the file \"martha-ballards-diary.txt\" in your `/texts/history` directory, which includes all the entries from Martha Ballard's diary.\n",
    "\n",
    "Fil in Python code in the cell below such that you will read in the file and print it out the first 3000 characters below.  Make sure you include arguments about the `mode` and `encoding` that you want to use when opening the file. (2 points)"
   ]
  },
  {
   "cell_type": "code",
   "execution_count": null,
   "metadata": {},
   "outputs": [],
   "source": [
    "ballard_diary = # Your code here \n",
    "print(ballard_diary[:3000])"
   ]
  },
  {
   "cell_type": "markdown",
   "metadata": {},
   "source": [
    "## Search"
   ]
  },
  {
   "cell_type": "markdown",
   "metadata": {},
   "source": [
    "**8.** Search for a word or phrase in Martha Ballard's diary by using the correct command line command. Turn on the option that displays the word or phrase in a color. Try to find a word or phrase that returns fewer than 50 lines (so the output is not too long). (2 points)"
   ]
  },
  {
   "cell_type": "code",
   "execution_count": 30,
   "metadata": {
    "scrolled": true,
    "tags": []
   },
   "outputs": [
    {
     "name": "stdout",
     "output_type": "stream",
     "text": [
      "1785-01-01\t mr Ballard left home bound for Oxford. I had been Sick with the Collic. mrs Savage went home. mrs Foster Came at evening. it \u001b[01;31m\u001b[Ksnow\u001b[m\u001b[Kd a little. \n",
      "1785-02-21\t at Tilar*s. A \u001b[01;31m\u001b[Ksnow\u001b[m\u001b[Ky Day. feel unwell. Ruth Moore helped mrs Tilar Do her work. \n",
      "1785-03-31\t Calld about Day to go to mr Wellman*s. Ephraim Cowan went with us as far as ye plain beyond Esqr Howard*s Bridg, where we mett a mesage Enforming ye woman was got Safe to Bed. turnd about & Returnd home. I had two falls; one on my way there, ye other on my Return. Ye Storm Continues yet; the \u001b[01;31m\u001b[Ksnow\u001b[m\u001b[K is Levil with y#e$ top of the lower Pain of glass of our north window. I travild Some Rods in the \u001b[01;31m\u001b[Ksnow\u001b[m\u001b[K where it was almost as high as my waist. Stopt at mr Sewall*s & warmd. Cowan got Colonel Howard*s Sleigh & brought me from mr Sewall*s. Got home at 8 o Clock. \n",
      "1785-12-08\t I was at home. it is very Cold, 9 it \u001b[01;31m\u001b[Ksnow\u001b[m\u001b[Kd yesterday. \n",
      "1785-12-27\t I was at home. ye Girls Bak#d$. it \u001b[01;31m\u001b[Ksnow\u001b[m\u001b[Ks yesterday Eving. \n",
      "1786-01-03\t mr Bullin & Rachel Faught Came here at 9/O Clo#k$ going to attend funeral of mrs Faught. mr Densmore Calld me to See his Son which is unwell. it began to \u001b[01;31m\u001b[Ksnow\u001b[m\u001b[K when I left home. I calld to see mrs North as I came home. Shee is very Sick. was Enformd there of ye Death of Judge Bowman of Pownalboro. it is a Tedious Storm. \n",
      "1786-03-02\t I have been at home ys Day. it \u001b[01;31m\u001b[Ksnow\u001b[m\u001b[Kd. mr Densmore Came for a Cyrrup I maid for his wife. mr Ballard been at mr Pollard*s with thee other Select Gent#m$. \n",
      "1786-04-07\t Clear, Some \u001b[01;31m\u001b[Ksnow\u001b[m\u001b[K fell Last night. mrs Williams here yesterday afternoon. Polly Hamlin at Evinn#g$. I finish#t$ Cyrus*s Gloves. have been at home all Day. \n",
      "1786-11-22\t Clear. mr Ballard gone to Survay for mr Senter. Betsy Chever here. I have been at home. it \u001b[01;31m\u001b[Ksnow\u001b[m\u001b[Kd at night. \n",
      "1787-01-12\t a \u001b[01;31m\u001b[Ksnow\u001b[m\u001b[K Storm. I was Calld to mr Savage*s to See his children that were Sick. Dr Coney there. mr Bullin & wife went from here. I stayd at Sav#gs$ & watcht. Son Town Came here, his children Been unwell. at home. \n",
      "1787-03-09\t A \u001b[01;31m\u001b[Ksnow\u001b[m\u001b[K Storm. Captain Sewall here, and mr Ballard went home with him. he informs of the Death of Captain Howard*s Daughter Polly. \n",
      "1787-03-30\t Clear part of the day, a little \u001b[01;31m\u001b[Ksnow\u001b[m\u001b[K. Biah went from here. Polly Taylor here. I paid her for what work Shee Did for me Last August, 8 Days. old mrs Whealer here. mr Ballard been to Colonel Howard*s. I have been at home. Ephraim is Eight years old this Day. \n",
      "1787-11-12\t at Son Town*s. a \u001b[01;31m\u001b[Ksnow\u001b[m\u001b[K fell. \n",
      "1787-12-23\t Clear. I Sett out to go to meeting & met Thomas Kenny , who Calld me to See his wife who is unwel. I was at mr White*s this Day. \u001b[01;31m\u001b[Ksnow\u001b[m\u001b[Kd at night. \n",
      "1797-01-15\t Clear and moderate. I was Calld at 6h morn from mr Burten*s to mr Kimbal*s to See his Lady who was in labour and was Deld at 4h 30#m $ evening of a Son. I returnd to mr Burten*s at 7, was Calld back at 10, by reason of the infants bleeding, made use of means which preventd it. tarried there thro the night. it \u001b[01;31m\u001b[Ksnow\u001b[m\u001b[Kd. at mr Kimbal*s. Birth 2 nt. receivd 9/as a reward.\n",
      "1798-03-09\t Cloudy, \u001b[01;31m\u001b[Ksnow\u001b[m\u001b[Kd before night. we have been piecing a border for a bed Cover and put it on. Cyrus went to his Brother*s. I finisht a pair of hoes yesterday evening for mr Ballard. at home.\n",
      "1799-01-21\t Cloudy morn, \u001b[01;31m\u001b[Ksnow\u001b[m\u001b[Kd a little. mr Ballard and I, in Company with Esqr Haywad and their Son Alford & Son & Daughter Lambard, wrode ou#t$ to Son Pollard*s where we Dind. mr Pollard gone to his Father*s, their Daughter Hannah is not So well as we Could wish; the others of the famely well. we Sett ou#t$ for home about Sun Set, with the addition of Ezra Town & Sister*s to our Company, returnd to the Es#qrs$ where we took Tea and Came home at 7h 30m evening. at Son Pollard*s. mr Waid and Watson giting woodfor us.\n",
      "1799-03-07\t Clear Except Some Squalls of \u001b[01;31m\u001b[Ksnow\u001b[m\u001b[K, very Cold. mrs McCausland Came foren to See me. mrs Livermore afternoon. Phillip Bullin here. Old mr Hamlin & Son Thomas & mr Partridge with their wives and mrs Lamb here on a visit, took Tea with us. Eliphale#t$ to y#e$ Dr*s, returnd at evening. at home, had Company.\n",
      "1799-03-18\t Cloudy and Cold, \u001b[01;31m\u001b[Ksnow\u001b[m\u001b[Kd some at Even. I went to See Dorcas Densmore, find her more Comfortable than Shee has been. W#m$ & Anny quite unwell. P. Bullin and mr Straten Dind here. Elipt went out forn, is not returnd. we are informd that mr George Brown has frozen his feet so that part of thim are Come off, a Sad misfortune. at mr Densmore*s.\n",
      "1802-02-12\t Cloudy, \u001b[01;31m\u001b[Ksnow\u001b[m\u001b[Kd a little at evening. I have been at home overhalling raggs for Coverlid &C. Sally Cypher here, informds that Samuel Smith Expired yesterday. at home. mrs Bridg Deld of her first Daughter &3#d$ Child. mrs Mosier performd.\n",
      "1802-12-19\t Cloudy, \u001b[01;31m\u001b[Ksnow\u001b[m\u001b[Kd Some. mr Ballard & Ephraim to meeting. Son Jonathan, his wife and part of their children Sup#t$ with us. I have been at home. at home. Daughter Ballard Came here.\n",
      "1804-02-17\t Clear Par#t$ of y#e$ Day, \u001b[01;31m\u001b[Ksnow\u001b[m\u001b[Kd before night. Son and Daughter Pollard & Babe here, Sett ou#t$ for home in y#e$ Storm. I have had a night of pain and Sorrow. at home. Son & Daughter Pollard here.\n",
      "1804-10-27\t Snowd. I have had to go out to feed my Swine, milk my Cow, get in the wood, &C, A mr Spaldin who livs with Son Lambard Calld in and got Stakes out of y#e$ \u001b[01;31m\u001b[Ksnow\u001b[m\u001b[K for me to keep a fire yesterday Day. at home.\n",
      "1804-12-15\t Cloudy all day, haild & \u001b[01;31m\u001b[Ksnow\u001b[m\u001b[Kd at night. I have been mending my Cloaths. mrs Farewel up to W#m$ Stone*s. at home, and Corked my Seller with hay.\n",
      "1805-01-05\t Cloudy and Cold. I have done a little washing, melted \u001b[01;31m\u001b[Ksnow\u001b[m\u001b[K and brot 2 pails water from y#e$ well. at home. Lemuel Sleeps here.\n",
      "1805-04-06\t the Sun Shone Early yesterday morn, Clouded Soon and began to \u001b[01;31m\u001b[Ksnow\u001b[m\u001b[K. mr Pierce Dind here. I have knit some. I have receivd of Jason Pierce 2 q#ts$ molases, 2 lb Sugar and _ lb Tea which Cost 5:6. he had 1 Bushl Polatoes. at home.\n",
      "1806-12-04\t Hail & \u001b[01;31m\u001b[Ksnow\u001b[m\u001b[K. I have been at home, baked brown Bread & mins Pies, feel fatagued. Jonathan B. Junr and W#m$ Sleep here, Supt allso. at home.\n",
      "1806-12-27\t Cloudy, \u001b[01;31m\u001b[Ksnow\u001b[m\u001b[Kd & raind. I am at ditto. my Daughter is as well as Can be Expected, the infan#t$ well. I tarrie there yesterday night. at ditto.\n",
      "1809-02-01\t Clear part of y#e$ day, \u001b[01;31m\u001b[Ksnow\u001b[m\u001b[Kd a lillle. I am inf#md$ that Old mr Isaac Savage Expired last night. Hannah & M. Ballard & Sally Pollard Sleep here yesterday night. I have done house work & knit some. at home. Hannah Ballard 14 [yr#s$] thisday. Death mr Isaac Savage.\n",
      "1810-12-25\t Clear foren#n$, a squall of \u001b[01;31m\u001b[Ksnow\u001b[m\u001b[K and high wind after n & evening. I have washt 4 Shirts for mr Ballard & 3 for my Self and other things. at home.\n"
     ]
    }
   ],
   "source": [
    "#Your code here"
   ]
  },
  {
   "cell_type": "markdown",
   "metadata": {},
   "source": [
    "## Word Count"
   ]
  },
  {
   "cell_type": "markdown",
   "metadata": {},
   "source": [
    "**9.** Alter the Python code below so that it prints out the top 40 most frequent words in Martha Ballard's Diary. (2 points)"
   ]
  },
  {
   "cell_type": "code",
   "execution_count": null,
   "metadata": {},
   "outputs": [],
   "source": [
    "# Import Libraries and Modules\n",
    "\n",
    "import re\n",
    "from collections import Counter\n",
    "\n",
    "# Define Functions\n",
    "\n",
    "def split_into_words(any_chunk_of_text):\n",
    "    lowercase_text = any_chunk_of_text.lower()\n",
    "    split_words = re.split(\"\\W+\", lowercase_text)\n",
    "    return split_words\n",
    "\n",
    "# Define Filepaths and Assign Variables\n",
    "\n",
    "filepath_of_text = # YOUR CODE HERE\n",
    "\n",
    "# Define number of words to return\n",
    "\n",
    "number_of_desired_words = # YOUR CODE HERE\n",
    "\n",
    "# Define stopwords\n",
    "\n",
    "stopwords = ['i', 'me', 'my', 'myself', 'we', 'our', 'ours', 'ourselves', 'you', 'your', 'yours',\n",
    "'yourself', 'yourselves', 'he', 'him', 'his', 'himself', 'she', 'her', 'hers',\n",
    " 'herself', 'it', 'its', 'itself', 'they', 'them', 'their', 'theirs', 'themselves',\n",
    " 'what', 'which', 'who', 'whom', 'this', 'that', 'these', 'those', 'am', 'is', 'are',\n",
    " 'was', 'were', 'be', 'been', 'being', 'have', 'has', 'had', 'having', 'do', 'does',\n",
    " 'did', 'doing', 'a', 'an', 'the', 'and', 'but', 'if', 'or', 'because', 'as', 'until',\n",
    " 'while', 'of', 'at', 'by', 'for', 'with', 'about', 'against', 'between', 'into',\n",
    " 'through', 'during', 'before', 'after', 'above', 'below', 'to', 'from', 'up', 'down',\n",
    " 'in', 'out', 'on', 'off', 'over', 'under', 'again', 'further', 'then', 'once', 'here',\n",
    " 'there', 'when', 'where', 'why', 'how', 'all', 'any', 'both', 'each', 'few', 'more',\n",
    " 'most', 'other', 'some', 'such', 'no', 'nor', 'not', 'only', 'own', 'same', 'so',\n",
    " 'than', 'too', 'very', 's', 't', 'can', 'will', 'just', 'don', 'should', 'now', 've', 'll', 'amp']\n",
    "\n",
    "# Read in File\n",
    "\n",
    "full_text = open(filepath_of_text, encoding=\"utf-8\").read()\n",
    "\n",
    "# Manipulate and Analyze File\n",
    "\n",
    "all_the_words = split_into_words(full_text)\n",
    "meaningful_words = [word for word in all_the_words if word not in stopwords]\n",
    "meaningful_words_tally = Counter(meaningful_words)\n",
    "most_frequent_meaningful_words = meaningful_words_tally.most_common(number_of_desired_words)\n",
    "\n",
    "# Output Results\n",
    "\n",
    "most_frequent_meaningful_words"
   ]
  },
  {
   "cell_type": "markdown",
   "metadata": {},
   "source": [
    "## Reflection"
   ]
  },
  {
   "cell_type": "markdown",
   "metadata": {},
   "source": [
    "**10.** What kind of argument or interpretation might you be able to make about Martha Ballard or this period of history based on the top words? What steps would you take next to explore this argument or interpretation further. Answer in at least 2 sentences. (2 points)"
   ]
  },
  {
   "cell_type": "markdown",
   "metadata": {},
   "source": []
  },
  {
   "cell_type": "markdown",
   "metadata": {},
   "source": [
    "## Stop Words"
   ]
  },
  {
   "cell_type": "markdown",
   "metadata": {},
   "source": [
    "**11.** Remove all the pronouns from the stopword list (i, me, my, she, her, his, himself, etc.), and then print out the top 40 words in Martha Ballard's diary. (1 point)"
   ]
  },
  {
   "cell_type": "code",
   "execution_count": null,
   "metadata": {},
   "outputs": [],
   "source": [
    "# Import Libraries and Modules\n",
    "\n",
    "import re\n",
    "from collections import Counter\n",
    "\n",
    "# Define Functions\n",
    "\n",
    "def split_into_words(any_chunk_of_text):\n",
    "    lowercase_text = any_chunk_of_text.lower()\n",
    "    split_words = re.split(\"\\W+\", lowercase_text)\n",
    "    return split_words\n",
    "\n",
    "# Define Filepaths and Assign Variables\n",
    "\n",
    "filepath_of_text = # YOUR CODE HERE\n",
    "\n",
    "# Define number of words to return\n",
    "\n",
    "number_of_desired_words = # YOUR CODE HERE\n",
    "\n",
    "# Define stopwords\n",
    "\n",
    "stopwords = ['i', 'me', 'my', 'myself', 'we', 'our', 'ours', 'ourselves', 'you', 'your', 'yours',\n",
    "'yourself', 'yourselves', 'he', 'him', 'his', 'himself', 'she', 'her', 'hers',\n",
    " 'herself', 'it', 'its', 'itself', 'they', 'them', 'their', 'theirs', 'themselves',\n",
    " 'what', 'which', 'who', 'whom', 'this', 'that', 'these', 'those', 'am', 'is', 'are',\n",
    " 'was', 'were', 'be', 'been', 'being', 'have', 'has', 'had', 'having', 'do', 'does',\n",
    " 'did', 'doing', 'a', 'an', 'the', 'and', 'but', 'if', 'or', 'because', 'as', 'until',\n",
    " 'while', 'of', 'at', 'by', 'for', 'with', 'about', 'against', 'between', 'into',\n",
    " 'through', 'during', 'before', 'after', 'above', 'below', 'to', 'from', 'up', 'down',\n",
    " 'in', 'out', 'on', 'off', 'over', 'under', 'again', 'further', 'then', 'once', 'here',\n",
    " 'there', 'when', 'where', 'why', 'how', 'all', 'any', 'both', 'each', 'few', 'more',\n",
    " 'most', 'other', 'some', 'such', 'no', 'nor', 'not', 'only', 'own', 'same', 'so',\n",
    " 'than', 'too', 'very', 's', 't', 'can', 'will', 'just', 'don', 'should', 'now', 've', 'll', 'amp']\n",
    "\n",
    "# Read in File\n",
    "\n",
    "full_text = open(filepath_of_text, encoding=\"utf-8\").read()\n",
    "\n",
    "# Manipulate and Analyze File\n",
    "\n",
    "all_the_words = split_into_words(full_text)\n",
    "meaningful_words = [word for word in all_the_words if word not in stopwords]\n",
    "meaningful_words_tally = Counter(meaningful_words)\n",
    "most_frequent_meaningful_words = meaningful_words_tally.most_common(number_of_desired_words)\n",
    "\n",
    "# Output Results\n",
    "\n",
    "most_frequent_meaningful_words"
   ]
  },
  {
   "cell_type": "markdown",
   "metadata": {},
   "source": [
    "**12.** How might these new results change your analysis or understanding of Martha Ballard's diary? Answer in at least 2 sentences. (2 points)"
   ]
  },
  {
   "cell_type": "markdown",
   "metadata": {},
   "source": []
  },
  {
   "cell_type": "markdown",
   "metadata": {},
   "source": [
    "## When You're Finished"
   ]
  },
  {
   "cell_type": "markdown",
   "metadata": {},
   "source": [
    "When you're finished, you should:\n",
    "\n",
    "- Save your Jupyter notebook with your last name (Right-click the file and select \"Rename\")\n",
    "\n",
    "-  Upload the Jupyter notebook file (.ipynb) to Gradescope."
   ]
  }
 ],
 "metadata": {
  "kernelspec": {
   "display_name": "Python 3",
   "language": "python",
   "name": "python3"
  },
  "language_info": {
   "codemirror_mode": {
    "name": "ipython",
    "version": 3
   },
   "file_extension": ".py",
   "mimetype": "text/x-python",
   "name": "python",
   "nbconvert_exporter": "python",
   "pygments_lexer": "ipython3",
   "version": "3.8.8"
  }
 },
 "nbformat": 4,
 "nbformat_minor": 4
}
