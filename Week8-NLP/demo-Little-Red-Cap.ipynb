{
 "cells": [
  {
   "cell_type": "markdown",
   "metadata": {},
   "source": [
    "# How to Use Riveter — Little Red Riding Hood Demo"
   ]
  },
  {
   "cell_type": "markdown",
   "metadata": {},
   "source": [
    "This Jupyter notebook will demonstrate how to use the Riveter package to measure social dynamics between personas mentioned in a collection of texts.\n",
    "\n",
    "The package identifies and extracts the subjects, verbs, and direct objects in texts; it performs coreference resolution on the personas mentioned in the texts (e.g., clustering \"Elizabeth Bennet\" and \"she\" together as one persona); and it measures social dynamics between the personas by referencing a given lexicon. The package currently includes Maarten Sap et al's lexicon for power and agency and Rashkin et al's lexicon for perspective, effect, value, and mental state. "
   ]
  },
  {
   "cell_type": "markdown",
   "metadata": {},
   "source": [
    "Here's a demonstration of Riveter with \"Little Red-Cap\" by the Brothers Grimm.\n",
    "\n",
    "![](https://www.publicdomainpictures.net/pictures/80000/nahled/little-red-riding-hood.jpg)"
   ]
  },
  {
   "cell_type": "code",
   "execution_count": 4,
   "metadata": {
    "scrolled": true,
    "tags": []
   },
   "outputs": [
    {
     "name": "stdout",
     "output_type": "stream",
     "text": [
      "zsh:1: command not found: y\n",
      "Collecting package metadata (current_repodata.json): done\n",
      "Solving environment: done\n",
      "\n",
      "## Package Plan ##\n",
      "\n",
      "  environment location: /Users/melwalsh/opt/anaconda3/envs/riveterEnv\n",
      "\n",
      "  added / updated specs:\n",
      "    - python=3.8\n",
      "\n",
      "\n",
      "The following packages will be downloaded:\n",
      "\n",
      "    package                    |            build\n",
      "    ---------------------------|-----------------\n",
      "    libffi-3.4.4               |       hecd8cb5_0         132 KB\n",
      "    pip-23.0.1                 |   py38hecd8cb5_0         2.5 MB\n",
      "    python-3.8.16              |       h218abb5_3        12.6 MB\n",
      "    setuptools-66.0.0          |   py38hecd8cb5_0         1.2 MB\n",
      "    sqlite-3.41.2              |       h6c40b1e_0         1.2 MB\n",
      "    xz-5.4.2                   |       h6c40b1e_0         372 KB\n",
      "    ------------------------------------------------------------\n",
      "                                           Total:        17.9 MB\n",
      "\n",
      "The following NEW packages will be INSTALLED:\n",
      "\n",
      "  ca-certificates    pkgs/main/osx-64::ca-certificates-2023.01.10-hecd8cb5_0\n",
      "  libcxx             pkgs/main/osx-64::libcxx-14.0.6-h9765a3e_0\n",
      "  libffi             pkgs/main/osx-64::libffi-3.4.4-hecd8cb5_0\n",
      "  ncurses            pkgs/main/osx-64::ncurses-6.4-hcec6c5f_0\n",
      "  openssl            pkgs/main/osx-64::openssl-1.1.1t-hca72f7f_0\n",
      "  pip                pkgs/main/osx-64::pip-23.0.1-py38hecd8cb5_0\n",
      "  python             pkgs/main/osx-64::python-3.8.16-h218abb5_3\n",
      "  readline           pkgs/main/osx-64::readline-8.2-hca72f7f_0\n",
      "  setuptools         pkgs/main/osx-64::setuptools-66.0.0-py38hecd8cb5_0\n",
      "  sqlite             pkgs/main/osx-64::sqlite-3.41.2-h6c40b1e_0\n",
      "  tk                 pkgs/main/osx-64::tk-8.6.12-h5d9f67b_0\n",
      "  wheel              pkgs/main/osx-64::wheel-0.38.4-py38hecd8cb5_0\n",
      "  xz                 pkgs/main/osx-64::xz-5.4.2-h6c40b1e_0\n",
      "  zlib               pkgs/main/osx-64::zlib-1.2.13-h4dc903c_0\n",
      "\n",
      "\n",
      "Proceed ([y]/n)? \n",
      "\n",
      "Downloading and Extracting Packages\n",
      "pip-23.0.1           | 2.5 MB    | ##################################### | 100% \n",
      "sqlite-3.41.2        | 1.2 MB    | ##################################### | 100% \n",
      "setuptools-66.0.0    | 1.2 MB    | ##################################### | 100% \n",
      "libffi-3.4.4         | 132 KB    | ##################################### | 100% \n",
      "xz-5.4.2             | 372 KB    | ##################################### | 100% \n",
      "python-3.8.16        | 12.6 MB   | ##################################### | 100% \n",
      "Preparing transaction: done\n",
      "Verifying transaction: done\n",
      "Executing transaction: done\n",
      "#\n",
      "# To activate this environment, use\n",
      "#\n",
      "#     $ conda activate riveterEnv\n",
      "#\n",
      "# To deactivate an active environment, use\n",
      "#\n",
      "#     $ conda deactivate\n",
      "\n",
      "\n",
      "CommandNotFoundError: Your shell has not been properly configured to use 'conda activate'.\n",
      "To initialize your shell, run\n",
      "\n",
      "    $ conda init <SHELL_NAME>\n",
      "\n",
      "Currently supported shells are:\n",
      "  - bash\n",
      "  - fish\n",
      "  - tcsh\n",
      "  - xonsh\n",
      "  - zsh\n",
      "  - powershell\n",
      "\n",
      "See 'conda init --help' for more information and options.\n",
      "\n",
      "IMPORTANT: You may need to close and restart your shell after running 'conda init'.\n",
      "\n",
      "\n"
     ]
    }
   ],
   "source": [
    "!y | conda create -n riveterEnv python=3.8\n",
    "!conda activate riveterEnv "
   ]
  },
  {
   "cell_type": "code",
   "execution_count": 1,
   "metadata": {
    "scrolled": true,
    "tags": []
   },
   "outputs": [
    {
     "name": "stdout",
     "output_type": "stream",
     "text": [
      "Cloning into 'neuralcoref'...\n",
      "remote: Enumerating objects: 772, done.\u001b[K\n",
      "remote: Counting objects: 100% (24/24), done.\u001b[K\n",
      "remote: Compressing objects: 100% (16/16), done.\u001b[K\n",
      "remote: Total 772 (delta 10), reused 16 (delta 7), pack-reused 748\u001b[K\n",
      "Receiving objects: 100% (772/772), 67.85 MiB | 8.31 MiB/s, done.\n",
      "Resolving deltas: 100% (407/407), done.\n",
      "Collecting neuralcoref==4.0\n",
      "  Downloading neuralcoref-4.0.tar.gz (368 kB)\n",
      "\u001b[2K     \u001b[90m━━━━━━━━━━━━━━━━━━━━━━━━━━━━━━━━━━━━━━\u001b[0m \u001b[32m368.7/368.7 kB\u001b[0m \u001b[31m11.8 MB/s\u001b[0m eta \u001b[36m0:00:00\u001b[0m\n",
      "\u001b[?25h  Preparing metadata (setup.py) ... \u001b[?25ldone\n",
      "\u001b[?25hCollecting spacy==2.3.9\n",
      "  Using cached spacy-2.3.9-cp38-cp38-macosx_10_9_x86_64.whl (5.1 MB)\n",
      "Collecting numpy==1.24.1\n",
      "  Downloading numpy-1.24.1-cp38-cp38-macosx_10_9_x86_64.whl (19.8 MB)\n",
      "\u001b[2K     \u001b[90m━━━━━━━━━━━━━━━━━━━━━━━━━━━━━━━━━━━━━━━━\u001b[0m \u001b[32m19.8/19.8 MB\u001b[0m \u001b[31m31.5 MB/s\u001b[0m eta \u001b[36m0:00:00\u001b[0m00:01\u001b[0m00:01\u001b[0m\n",
      "\u001b[?25hCollecting pandas==1.5.2\n",
      "  Downloading pandas-1.5.2-cp38-cp38-macosx_10_9_x86_64.whl (11.9 MB)\n",
      "\u001b[2K     \u001b[90m━━━━━━━━━━━━━━━━━━━━━━━━━━━━━━━━━━━━━━━━\u001b[0m \u001b[32m11.9/11.9 MB\u001b[0m \u001b[31m37.9 MB/s\u001b[0m eta \u001b[36m0:00:00\u001b[0m00:01\u001b[0m0:01\u001b[0m\n",
      "\u001b[?25hRequirement already satisfied: boto3 in /Users/melwalsh/opt/anaconda3/lib/python3.8/site-packages (from neuralcoref==4.0->-r requirements.txt (line 1)) (1.26.13)\n",
      "Requirement already satisfied: requests<3.0.0,>=2.13.0 in /Users/melwalsh/opt/anaconda3/lib/python3.8/site-packages (from neuralcoref==4.0->-r requirements.txt (line 1)) (2.27.1)\n",
      "Requirement already satisfied: setuptools in /Users/melwalsh/opt/anaconda3/lib/python3.8/site-packages (from spacy==2.3.9->-r requirements.txt (line 2)) (59.1.1)\n",
      "Requirement already satisfied: murmurhash<1.1.0,>=0.28.0 in /Users/melwalsh/opt/anaconda3/lib/python3.8/site-packages (from spacy==2.3.9->-r requirements.txt (line 2)) (1.0.5)\n",
      "Requirement already satisfied: tqdm<5.0.0,>=4.38.0 in /Users/melwalsh/opt/anaconda3/lib/python3.8/site-packages (from spacy==2.3.9->-r requirements.txt (line 2)) (4.62.3)\n",
      "Collecting catalogue<1.1.0,>=0.0.7\n",
      "  Using cached catalogue-1.0.2-py2.py3-none-any.whl (16 kB)\n",
      "Requirement already satisfied: blis<0.8.0,>=0.4.0 in /Users/melwalsh/opt/anaconda3/lib/python3.8/site-packages (from spacy==2.3.9->-r requirements.txt (line 2)) (0.7.8)\n",
      "Requirement already satisfied: cymem<2.1.0,>=2.0.2 in /Users/melwalsh/opt/anaconda3/lib/python3.8/site-packages (from spacy==2.3.9->-r requirements.txt (line 2)) (2.0.5)\n",
      "Collecting srsly<1.1.0,>=1.0.2\n",
      "  Using cached srsly-1.0.6-cp38-cp38-macosx_10_9_x86_64.whl (207 kB)\n",
      "Requirement already satisfied: plac<1.2.0,>=0.9.6 in /Users/melwalsh/opt/anaconda3/lib/python3.8/site-packages (from spacy==2.3.9->-r requirements.txt (line 2)) (0.9.6)\n",
      "Collecting thinc<7.5.0,>=7.4.1\n",
      "  Using cached thinc-7.4.6-cp38-cp38-macosx_10_9_x86_64.whl (989 kB)\n",
      "Requirement already satisfied: wasabi<1.1.0,>=0.4.0 in /Users/melwalsh/opt/anaconda3/lib/python3.8/site-packages (from spacy==2.3.9->-r requirements.txt (line 2)) (0.10.1)\n",
      "Requirement already satisfied: preshed<3.1.0,>=3.0.2 in /Users/melwalsh/opt/anaconda3/lib/python3.8/site-packages (from spacy==2.3.9->-r requirements.txt (line 2)) (3.0.5)\n",
      "Requirement already satisfied: pytz>=2020.1 in /Users/melwalsh/opt/anaconda3/lib/python3.8/site-packages (from pandas==1.5.2->-r requirements.txt (line 4)) (2021.1)\n",
      "Requirement already satisfied: python-dateutil>=2.8.1 in /Users/melwalsh/opt/anaconda3/lib/python3.8/site-packages (from pandas==1.5.2->-r requirements.txt (line 4)) (2.8.1)\n",
      "Requirement already satisfied: six>=1.5 in /Users/melwalsh/opt/anaconda3/lib/python3.8/site-packages (from python-dateutil>=2.8.1->pandas==1.5.2->-r requirements.txt (line 4)) (1.12.0)\n",
      "Requirement already satisfied: certifi>=2017.4.17 in /Users/melwalsh/opt/anaconda3/lib/python3.8/site-packages (from requests<3.0.0,>=2.13.0->neuralcoref==4.0->-r requirements.txt (line 1)) (2020.12.5)\n",
      "Requirement already satisfied: idna<4,>=2.5 in /Users/melwalsh/opt/anaconda3/lib/python3.8/site-packages (from requests<3.0.0,>=2.13.0->neuralcoref==4.0->-r requirements.txt (line 1)) (2.10)\n",
      "Requirement already satisfied: charset-normalizer~=2.0.0 in /Users/melwalsh/opt/anaconda3/lib/python3.8/site-packages (from requests<3.0.0,>=2.13.0->neuralcoref==4.0->-r requirements.txt (line 1)) (2.0.12)\n",
      "Requirement already satisfied: urllib3<1.27,>=1.21.1 in /Users/melwalsh/opt/anaconda3/lib/python3.8/site-packages (from requests<3.0.0,>=2.13.0->neuralcoref==4.0->-r requirements.txt (line 1)) (1.26.4)\n",
      "Requirement already satisfied: s3transfer<0.7.0,>=0.6.0 in /Users/melwalsh/opt/anaconda3/lib/python3.8/site-packages (from boto3->neuralcoref==4.0->-r requirements.txt (line 1)) (0.6.0)\n",
      "Requirement already satisfied: botocore<1.30.0,>=1.29.13 in /Users/melwalsh/opt/anaconda3/lib/python3.8/site-packages (from boto3->neuralcoref==4.0->-r requirements.txt (line 1)) (1.29.13)\n",
      "Requirement already satisfied: jmespath<2.0.0,>=0.7.1 in /Users/melwalsh/opt/anaconda3/lib/python3.8/site-packages (from boto3->neuralcoref==4.0->-r requirements.txt (line 1)) (1.0.1)\n",
      "Building wheels for collected packages: neuralcoref\n",
      "  Building wheel for neuralcoref (setup.py) ... \u001b[?25ldone\n",
      "\u001b[?25h  Created wheel for neuralcoref: filename=neuralcoref-4.0-cp38-cp38-macosx_10_9_x86_64.whl size=282789 sha256=09fa855442ab37dafe9873896ebffec0a0de654168e9cd194d423ad6b5195c8c\n",
      "  Stored in directory: /Users/melwalsh/Library/Caches/pip/wheels/2c/0b/d4/be6e85f480e2a238aaa98182f52eb6fc410c25b705ffb3b1e9\n",
      "Successfully built neuralcoref\n",
      "Installing collected packages: srsly, numpy, catalogue, pandas, thinc, spacy, neuralcoref\n",
      "  Attempting uninstall: srsly\n",
      "    Found existing installation: srsly 2.4.4\n",
      "    Uninstalling srsly-2.4.4:\n",
      "      Successfully uninstalled srsly-2.4.4\n",
      "  Attempting uninstall: numpy\n",
      "    Found existing installation: numpy 1.20.1\n",
      "    Uninstalling numpy-1.20.1:\n",
      "      Successfully uninstalled numpy-1.20.1\n",
      "  Attempting uninstall: catalogue\n",
      "    Found existing installation: catalogue 2.0.6\n",
      "    Uninstalling catalogue-2.0.6:\n",
      "      Successfully uninstalled catalogue-2.0.6\n",
      "  Attempting uninstall: pandas\n",
      "    Found existing installation: pandas 1.3.2\n",
      "    Uninstalling pandas-1.3.2:\n",
      "      Successfully uninstalled pandas-1.3.2\n",
      "  Attempting uninstall: thinc\n",
      "    Found existing installation: thinc 8.1.3\n",
      "    Uninstalling thinc-8.1.3:\n",
      "      Successfully uninstalled thinc-8.1.3\n",
      "  Attempting uninstall: spacy\n",
      "    Found existing installation: spacy 3.4.1\n",
      "    Uninstalling spacy-3.4.1:\n",
      "      Successfully uninstalled spacy-3.4.1\n",
      "\u001b[31mERROR: pip's dependency resolver does not currently take into account all the packages that are installed. This behaviour is the source of the following dependency conflicts.\n",
      "zh-core-web-md 3.1.0 requires spacy<3.2.0,>=3.1.0, but you have spacy 2.3.9 which is incompatible.\n",
      "spacy-pkuseg 0.0.28 requires srsly<3.0.0,>=2.3.0, but you have srsly 1.0.6 which is incompatible.\n",
      "scipy 1.6.2 requires numpy<1.23.0,>=1.16.5, but you have numpy 1.24.1 which is incompatible.\n",
      "es-core-news-md 3.1.0 requires spacy<3.2.0,>=3.1.0, but you have spacy 2.3.9 which is incompatible.\n",
      "da-core-news-md 3.1.0 requires spacy<3.2.0,>=3.1.0, but you have spacy 2.3.9 which is incompatible.\n",
      "csvmatch 1.20 requires tqdm==4.18.0, but you have tqdm 4.62.3 which is incompatible.\n",
      "confection 0.0.3 requires srsly<3.0.0,>=2.4.0, but you have srsly 1.0.6 which is incompatible.\n",
      "booknlp 1.0.4 requires spacy>=3, but you have spacy 2.3.9 which is incompatible.\u001b[0m\u001b[31m\n",
      "\u001b[0mSuccessfully installed catalogue-1.0.2 neuralcoref-4.0 numpy-1.24.1 pandas-1.5.2 spacy-2.3.9 srsly-1.0.6 thinc-7.4.6\n",
      "\n",
      "\u001b[1m[\u001b[0m\u001b[34;49mnotice\u001b[0m\u001b[1;39;49m]\u001b[0m\u001b[39;49m A new release of pip available: \u001b[0m\u001b[31;49m22.2.2\u001b[0m\u001b[39;49m -> \u001b[0m\u001b[32;49m23.1.2\u001b[0m\n",
      "\u001b[1m[\u001b[0m\u001b[34;49mnotice\u001b[0m\u001b[1;39;49m]\u001b[0m\u001b[39;49m To update, run: \u001b[0m\u001b[32;49mpip install --upgrade pip\u001b[0m\n",
      "Obtaining file:///Users/melwalsh/info498e-sp23-repo/Week8-NLP\n",
      "\u001b[31mERROR: file:///Users/melwalsh/info498e-sp23-repo/Week8-NLP does not appear to be a Python project: neither 'setup.py' nor 'pyproject.toml' found.\u001b[0m\u001b[31m\n",
      "\u001b[0m\n",
      "\u001b[1m[\u001b[0m\u001b[34;49mnotice\u001b[0m\u001b[1;39;49m]\u001b[0m\u001b[39;49m A new release of pip available: \u001b[0m\u001b[31;49m22.2.2\u001b[0m\u001b[39;49m -> \u001b[0m\u001b[32;49m23.1.2\u001b[0m\n",
      "\u001b[1m[\u001b[0m\u001b[34;49mnotice\u001b[0m\u001b[1;39;49m]\u001b[0m\u001b[39;49m To update, run: \u001b[0m\u001b[32;49mpip install --upgrade pip\u001b[0m\n"
     ]
    }
   ],
   "source": [
    "!git clone https://github.com/huggingface/neuralcoref.git\n",
    "!cd neuralcoref\n",
    "!pip install -r requirements.txt\n",
    "!pip install -e .\n",
    "!cd .."
   ]
  },
  {
   "cell_type": "markdown",
   "metadata": {},
   "source": [
    "## Import Libraries"
   ]
  },
  {
   "cell_type": "code",
   "execution_count": 1,
   "metadata": {},
   "outputs": [
    {
     "name": "stderr",
     "output_type": "stream",
     "text": [
      "/Users/melwalsh/opt/anaconda3/lib/python3.8/site-packages/scipy/__init__.py:138: UserWarning: A NumPy version >=1.16.5 and <1.23.0 is required for this version of SciPy (detected version 1.24.1)\n",
      "  warnings.warn(f\"A NumPy version >={np_minversion} and <{np_maxversion} is required for this version of \"\n",
      "<frozen importlib._bootstrap>:219: RuntimeWarning: spacy.morphology.Morphology size changed, may indicate binary incompatibility. Expected 104 from C header, got 112 from PyObject\n",
      "<frozen importlib._bootstrap>:219: RuntimeWarning: spacy.vocab.Vocab size changed, may indicate binary incompatibility. Expected 96 from C header, got 112 from PyObject\n",
      "<frozen importlib._bootstrap>:219: RuntimeWarning: spacy.tokens.span.Span size changed, may indicate binary incompatibility. Expected 72 from C header, got 80 from PyObject\n"
     ]
    }
   ],
   "source": [
    "# Import Riveter\n",
    "from riveter import Riveter\n",
    "\n",
    "import os\n",
    "import pandas as pd\n",
    "import random\n",
    "import seaborn as sns\n",
    "import matplotlib.pyplot as plt"
   ]
  },
  {
   "cell_type": "markdown",
   "metadata": {},
   "source": [
    "# Demo with Power Lexicon and *Little Red Riding Hood*"
   ]
  },
  {
   "cell_type": "markdown",
   "metadata": {},
   "source": [
    "## Load Text Data"
   ]
  },
  {
   "cell_type": "markdown",
   "metadata": {},
   "source": [
    "Load \"Little Red-Cap\" by Brother Grimm"
   ]
  },
  {
   "cell_type": "code",
   "execution_count": 2,
   "metadata": {},
   "outputs": [],
   "source": [
    "import requests\n",
    "\n",
    "url = \"https://github.com/melaniewalsh/Intro-Cultural-Analytics/raw/master/book/texts/literature/Grimms-Little-Red-Cap.txt\"\n",
    "\n",
    "response = requests.get(url)\n",
    "text = response.text\n",
    "text = text.replace(\"\\n\", \" \")\n",
    "text = text.replace(\"\\r\", \"\")"
   ]
  },
  {
   "cell_type": "code",
   "execution_count": 3,
   "metadata": {},
   "outputs": [],
   "source": [
    "# Texts\n",
    "texts = [text]\n",
    "# Unique ids for texts\n",
    "text_ids = [0]"
   ]
  },
  {
   "cell_type": "markdown",
   "metadata": {
    "tags": []
   },
   "source": [
    "## Load Lexicon (\"Power\") and Train Model"
   ]
  },
  {
   "cell_type": "markdown",
   "metadata": {},
   "source": [
    "Run Riveter with NER and coreference resolution"
   ]
  },
  {
   "cell_type": "code",
   "execution_count": null,
   "metadata": {},
   "outputs": [
    {
     "name": "stderr",
     "output_type": "stream",
     "text": [
      "  0%|          | 0/1 [00:00<?, ?it/s]"
     ]
    }
   ],
   "source": [
    "riveter = Riveter()\n",
    "riveter.load_sap_lexicon('power')\n",
    "riveter.train(texts,\n",
    "              text_ids)"
   ]
  },
  {
   "cell_type": "markdown",
   "metadata": {},
   "source": [
    "Run Riveter with customized regex patterns"
   ]
  },
  {
   "cell_type": "code",
   "execution_count": null,
   "metadata": {},
   "outputs": [],
   "source": [
    "riveter = Riveter()\n",
    "riveter.load_sap_lexicon('power')\n",
    "riveter.train(texts,\n",
    "              text_ids,\n",
    "              persona_patterns_dict={'red cap': r'^red-cap$|^little red-cap$',\n",
    "                                     'the wolf': r'^wolf$|^the wolf$|^a wolf$',\n",
    "                                     'huntsman': r'^huntsman$|^the huntsman$',\n",
    "                                    'grandmother': r'^grandmother$|^her grandmother$|^the grandmother$',\n",
    "                                     })"
   ]
  },
  {
   "cell_type": "markdown",
   "metadata": {
    "tags": []
   },
   "source": [
    "## Get Total Scores for All Documents"
   ]
  },
  {
   "cell_type": "markdown",
   "metadata": {},
   "source": [
    "You can use the `.get_score_totals()` function to get cumulative power scores (or chosen dynamic scores) for each persona mentioned in the texts."
   ]
  },
  {
   "cell_type": "code",
   "execution_count": 158,
   "metadata": {},
   "outputs": [
    {
     "data": {
      "text/plain": [
       "{'red cap': 0.36363636363636365,\n",
       " 'grandmother': 0.2857142857142857,\n",
       " 'the wolf': -0.1,\n",
       " 'huntsman': 1.0}"
      ]
     },
     "execution_count": 158,
     "metadata": {},
     "output_type": "execute_result"
    }
   ],
   "source": [
    "riveter.get_score_totals()"
   ]
  },
  {
   "cell_type": "markdown",
   "metadata": {
    "tags": []
   },
   "source": [
    "## Plot Scores for All Documents"
   ]
  },
  {
   "cell_type": "markdown",
   "metadata": {},
   "source": [
    "You can use the `.plot_scores()` function to display a bar plot with the top *n* or bottom *n* personas in the texts. The function will display the top 10 highest-scoring personas by default."
   ]
  },
  {
   "cell_type": "code",
   "execution_count": 159,
   "metadata": {},
   "outputs": [
    {
     "data": {
      "image/png": "[encoded data removed]",
      "text/plain": [
       "<Figure size 640x480 with 1 Axes>"
      ]
     },
     "metadata": {},
     "output_type": "display_data"
    }
   ],
   "source": [
    "riveter.plot_scores()"
   ]
  },
  {
   "cell_type": "code",
   "execution_count": 160,
   "metadata": {},
   "outputs": [
    {
     "data": {
      "image/png": "[encoded data removed]",
      "text/plain": [
       "<Figure size 640x480 with 1 Axes>"
      ]
     },
     "metadata": {},
     "output_type": "display_data"
    }
   ],
   "source": [
    "riveter.plot_scores(frequency_threshold=3)"
   ]
  },
  {
   "cell_type": "markdown",
   "metadata": {
    "tags": []
   },
   "source": [
    "## Get Scores, Subjects, and Direct Objects for Each Document"
   ]
  },
  {
   "cell_type": "markdown",
   "metadata": {},
   "source": [
    "You can use the `.get_score_for_doc()` function to get power scores (or chosen dynamic scores) for each persona mentioned in a document (based on the document id passed into the training function)."
   ]
  },
  {
   "cell_type": "code",
   "execution_count": 161,
   "metadata": {},
   "outputs": [
    {
     "data": {
      "text/plain": [
       "{'red cap': 0.36363636363636365,\n",
       " 'grandmother': 0.2857142857142857,\n",
       " 'the wolf': -0.1,\n",
       " 'huntsman': 1.0}"
      ]
     },
     "execution_count": 161,
     "metadata": {},
     "output_type": "execute_result"
    }
   ],
   "source": [
    "riveter.get_scores_for_doc(0)"
   ]
  },
  {
   "cell_type": "markdown",
   "metadata": {},
   "source": [
    "You can use `.count_nsubj_for_doc()` to get all noun subjects and verb pairs (regardless of whether the verb apperas in the chosen lexicon) for each document."
   ]
  },
  {
   "cell_type": "code",
   "execution_count": 162,
   "metadata": {},
   "outputs": [
    {
     "data": {
      "text/plain": [
       "{('red cap', 'say'): 1,\n",
       " ('grandmother', 'live'): 1,\n",
       " ('red cap', 'enter'): 1,\n",
       " ('the wolf', 'meet'): 1,\n",
       " ('red cap', 'know'): 1,\n",
       " ('red cap', 'reply'): 1,\n",
       " ('the wolf', 'think'): 1,\n",
       " ('red cap', 'be'): 1,\n",
       " ('red cap', 'raise'): 1,\n",
       " ('the wolf', 'run'): 1,\n",
       " ('the wolf', 'lift'): 1,\n",
       " ('red cap', 'run'): 1,\n",
       " ('the wolf', 'say'): 1,\n",
       " ('the wolf', 'satisfy'): 1,\n",
       " ('huntsman', 'pass'): 1,\n",
       " ('the wolf', 'lie'): 1,\n",
       " ('the wolf', 'devour'): 1,\n",
       " ('red cap', 'fetch'): 1,\n",
       " ('huntsman', 'draw'): 1,\n",
       " ('grandmother', 'eat'): 1,\n",
       " ('red cap', 'bring'): 1,\n",
       " ('red cap', 'think'): 1}"
      ]
     },
     "execution_count": 162,
     "metadata": {},
     "output_type": "execute_result"
    }
   ],
   "source": [
    "riveter.count_nsubj_for_doc(0)"
   ]
  },
  {
   "cell_type": "markdown",
   "metadata": {},
   "source": [
    "You can use `.count_dobj_for_doc()` to get all direct objects and verb pairs (regardless of whether the verb apperas in the chosen lexicon) for each document."
   ]
  },
  {
   "cell_type": "code",
   "execution_count": 163,
   "metadata": {},
   "outputs": [
    {
     "data": {
      "text/plain": [
       "{('grandmother', 'take'): 1,\n",
       " ('the wolf', 'reply'): 1,\n",
       " ('grandmother', 'call'): 1,\n",
       " ('grandmother', 'remember'): 1,\n",
       " ('grandmother', 'lie'): 1,\n",
       " ('red cap', 'swallow'): 1,\n",
       " ('grandmother', 'devour'): 1,\n",
       " ('the wolf', 'draw'): 1}"
      ]
     },
     "execution_count": 163,
     "metadata": {},
     "output_type": "execute_result"
    }
   ],
   "source": [
    "riveter.count_dobj_for_doc(0)"
   ]
  },
  {
   "cell_type": "markdown",
   "metadata": {},
   "source": [
    "## Get Verb Polarity for Scores"
   ]
  },
  {
   "cell_type": "markdown",
   "metadata": {},
   "source": [
    "We can see all the contributing verbs for each persona and whether they contributed positively or negatively to the power score."
   ]
  },
  {
   "cell_type": "code",
   "execution_count": null,
   "metadata": {},
   "outputs": [],
   "source": [
    "riveter.get_persona_polarity_verb_count_dict()"
   ]
  },
  {
   "cell_type": "code",
   "execution_count": 164,
   "metadata": {},
   "outputs": [
    {
     "data": {
      "image/png": "[encoded data removed]",
      "text/plain": [
       "<Figure size 200x400 with 1 Axes>"
      ]
     },
     "metadata": {},
     "output_type": "display_data"
    }
   ],
   "source": [
    "riveter.plot_verbs_for_persona('red cap', figsize=(2, 4), output_path= \"red-cap-verbs.png\")"
   ]
  },
  {
   "cell_type": "code",
   "execution_count": 165,
   "metadata": {},
   "outputs": [
    {
     "data": {
      "image/png": "[encoded data removed]",
      "text/plain": [
       "<Figure size 200x400 with 1 Axes>"
      ]
     },
     "metadata": {},
     "output_type": "display_data"
    }
   ],
   "source": [
    "riveter.plot_verbs_for_persona('huntsman', figsize=(2, 4))"
   ]
  },
  {
   "cell_type": "code",
   "execution_count": 166,
   "metadata": {},
   "outputs": [
    {
     "data": {
      "image/png": "[encoded data removed]",
      "text/plain": [
       "<Figure size 200x400 with 1 Axes>"
      ]
     },
     "metadata": {},
     "output_type": "display_data"
    }
   ],
   "source": [
    "riveter.plot_verbs_for_persona('the wolf', figsize=(2, 4))"
   ]
  },
  {
   "cell_type": "markdown",
   "metadata": {},
   "source": [
    "## Save and Load Riveter Results"
   ]
  },
  {
   "cell_type": "markdown",
   "metadata": {},
   "source": [
    "Save results in .pkl file"
   ]
  },
  {
   "cell_type": "code",
   "execution_count": 167,
   "metadata": {},
   "outputs": [
    {
     "name": "stdout",
     "output_type": "stream",
     "text": [
      "Riveter successfully saved to \"little-red-cap.pkl\"\n"
     ]
    }
   ],
   "source": [
    "riveter.save('little-red-cap.pkl')"
   ]
  },
  {
   "cell_type": "markdown",
   "metadata": {},
   "source": [
    "Load saved results into Riveter"
   ]
  },
  {
   "cell_type": "code",
   "execution_count": 168,
   "metadata": {},
   "outputs": [],
   "source": [
    "riveter = Riveter(filename = \"little-red-cap.pkl\")"
   ]
  }
 ],
 "metadata": {
  "kernelspec": {
   "display_name": "Python 3",
   "language": "python",
   "name": "python3"
  },
  "language_info": {
   "codemirror_mode": {
    "name": "ipython",
    "version": 3
   },
   "file_extension": ".py",
   "mimetype": "text/x-python",
   "name": "python",
   "nbconvert_exporter": "python",
   "pygments_lexer": "ipython3",
   "version": "3.8.8"
  },
  "vscode": {
   "interpreter": {
    "hash": "66412c03f91e9a42e9c41dd543b50b96eee08a8e3011708689019231b0abadf5"
   }
  }
 },
 "nbformat": 4,
 "nbformat_minor": 4
}
