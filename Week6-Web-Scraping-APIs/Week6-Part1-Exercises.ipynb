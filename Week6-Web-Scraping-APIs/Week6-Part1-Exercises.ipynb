{
 "cells": [
  {
   "cell_type": "markdown",
   "metadata": {},
   "source": [
    "# Week 6 Exercises — Part 1"
   ]
  },
  {
   "cell_type": "markdown",
   "metadata": {},
   "source": [
    "We're going to see if we can scrape data about all Love Island contestants from this Wiki: https://loveisland.fandom.com/wiki/Category:Islanders"
   ]
  },
  {
   "cell_type": "markdown",
   "metadata": {},
   "source": [
    "## Import Libraries"
   ]
  },
  {
   "cell_type": "code",
   "execution_count": 1,
   "metadata": {},
   "outputs": [],
   "source": [
    "import requests\n",
    "from bs4 import BeautifulSoup\n",
    "import pandas as pd"
   ]
  },
  {
   "cell_type": "markdown",
   "metadata": {},
   "source": [
    "## Get Web Page Data/Text"
   ]
  },
  {
   "cell_type": "markdown",
   "metadata": {},
   "source": [
    "To start, just try to extract information from a single page: https://loveisland.fandom.com/wiki/Jack_Fincham "
   ]
  },
  {
   "cell_type": "markdown",
   "metadata": {},
   "source": [
    "> With the `.get()` method, we can request to \"get\" web page data for a specific URL, which we will store in a varaible called `response`."
   ]
  },
  {
   "cell_type": "markdown",
   "metadata": {},
   "source": [
    "> To actually get at the text data in the reponse, we need to use `.text`, which we will save in a variable called `html_string`. The text data that we're getting is formatted in the HTML markup language, which we will talk more about in the BeautifulSoup section below."
   ]
  },
  {
   "cell_type": "markdown",
   "metadata": {},
   "source": [
    "> To make a BeautifulSoup document, we call `BeautifulSoup()` with two parameters: the `html_string` from our HTTP request and [the kind of parser](https://www.crummy.com/software/BeautifulSoup/bs4/doc/#specifying-the-parser-to-use) that we want to use, which will always be `\"html.parser\"` for our purposes."
   ]
  },
  {
   "cell_type": "code",
   "execution_count": 26,
   "metadata": {},
   "outputs": [],
   "source": [
    "response = requests.get(\"https://loveisland.fandom.com/wiki/Jack_Fincham\")\n",
    "html_string = response.text\n",
    "\n",
    "document = BeautifulSoup(html_string, \"html.parser\")"
   ]
  },
  {
   "cell_type": "markdown",
   "metadata": {},
   "source": [
    "# Extract Info That You Want"
   ]
  },
  {
   "cell_type": "markdown",
   "metadata": {},
   "source": [
    "## Name"
   ]
  },
  {
   "cell_type": "markdown",
   "metadata": {},
   "source": [
    "Write Python code that will extract the contestant's name from this web page"
   ]
  },
  {
   "cell_type": "code",
   "execution_count": null,
   "metadata": {},
   "outputs": [],
   "source": [
    "# your code here"
   ]
  },
  {
   "cell_type": "markdown",
   "metadata": {},
   "source": [
    "## Age"
   ]
  },
  {
   "cell_type": "markdown",
   "metadata": {},
   "source": [
    "Write Python code that will extract the contestant's age from this web page"
   ]
  },
  {
   "cell_type": "code",
   "execution_count": null,
   "metadata": {},
   "outputs": [],
   "source": [
    "# your code here"
   ]
  },
  {
   "cell_type": "code",
   "execution_count": 16,
   "metadata": {},
   "outputs": [
    {
     "data": {
      "text/plain": [
       "<div class=\"pi-data-value pi-font\">30</div>"
      ]
     },
     "execution_count": 16,
     "metadata": {},
     "output_type": "execute_result"
    }
   ],
   "source": [
    "document.find(\"h3\", string=\"Age\").find_next_sibling()"
   ]
  },
  {
   "cell_type": "code",
   "execution_count": 17,
   "metadata": {},
   "outputs": [
    {
     "data": {
      "text/plain": [
       "'30'"
      ]
     },
     "execution_count": 17,
     "metadata": {},
     "output_type": "execute_result"
    }
   ],
   "source": [
    "document.find(\"h3\", string=\"Age\").find_next_sibling().text"
   ]
  },
  {
   "cell_type": "markdown",
   "metadata": {},
   "source": [
    "## Birthday"
   ]
  },
  {
   "cell_type": "markdown",
   "metadata": {},
   "source": [
    "Write Python code that will extract the contestant's age from this web page"
   ]
  },
  {
   "cell_type": "code",
   "execution_count": null,
   "metadata": {},
   "outputs": [],
   "source": [
    "# your code here"
   ]
  },
  {
   "cell_type": "markdown",
   "metadata": {},
   "source": [
    "## Occupation"
   ]
  },
  {
   "cell_type": "markdown",
   "metadata": {},
   "source": [
    "Write Python code that will extract the contestant's occupation from this web page"
   ]
  },
  {
   "cell_type": "code",
   "execution_count": null,
   "metadata": {},
   "outputs": [],
   "source": [
    "# your code here"
   ]
  },
  {
   "cell_type": "code",
   "execution_count": null,
   "metadata": {},
   "outputs": [],
   "source": []
  },
  {
   "cell_type": "markdown",
   "metadata": {},
   "source": [
    "## Hometown"
   ]
  },
  {
   "cell_type": "markdown",
   "metadata": {},
   "source": [
    "Write Python code that will extract the contestant's occupation from this web page"
   ]
  },
  {
   "cell_type": "code",
   "execution_count": null,
   "metadata": {},
   "outputs": [],
   "source": [
    "# your code here"
   ]
  },
  {
   "cell_type": "markdown",
   "metadata": {},
   "source": [
    "## Another Category"
   ]
  },
  {
   "cell_type": "markdown",
   "metadata": {},
   "source": [
    "Write Python code that will extract another bit of information about the contestant that you think would be important or interesting"
   ]
  },
  {
   "cell_type": "code",
   "execution_count": null,
   "metadata": {},
   "outputs": [],
   "source": [
    "# your code here"
   ]
  },
  {
   "cell_type": "markdown",
   "metadata": {},
   "source": [
    "## Make a Dataframe"
   ]
  },
  {
   "cell_type": "markdown",
   "metadata": {},
   "source": [
    "Now we want to take these bits of code and see if we can put them together to extract contestant information for any URL and return a Pandas dataframe of all the info.\n",
    "\n",
    "To do so, we will loop through a list of Love Island contestant wiki URLs, extract the relevant info, and then add a Python dictionary with the info to an empty list. **You can easily make a Pandas dataframe from a list of dictionaries.** "
   ]
  },
  {
   "cell_type": "code",
   "execution_count": 20,
   "metadata": {},
   "outputs": [],
   "source": [
    "wiki_urls = [\"https://loveisland.fandom.com/wiki/Jack_Fincham\", \n",
    "             \"https://loveisland.fandom.com/wiki/Olivia_Attwood\"]"
   ]
  },
  {
   "cell_type": "code",
   "execution_count": 40,
   "metadata": {},
   "outputs": [],
   "source": [
    "# empty list that will become a dataframe\n",
    "dicts_to_df = []\n",
    "\n",
    "\n",
    "for wiki_url in wiki_urls:\n",
    "    \n",
    "    # Name\n",
    "    \n",
    "    \n",
    "    # Age\n",
    "    \n",
    "    \n",
    "     # Birthday\n",
    "    \n",
    "    \n",
    "    # Occupation\n",
    "    \n",
    "    \n",
    "    # Hometown\n",
    "    \n",
    "    \n",
    "    # Another Category\n",
    "    \n",
    "    \n",
    "    # Appending a dictionary to a list\n",
    "    dicts_to_df.append({\"name\": \"Person\", # add the correct variable here\n",
    "                        \"age\": 25, # add the correct variable here\n",
    "                        \"birthday\": \"Birthday\", # add the correct variable here\n",
    "                        \"occupation\": \"Job\", # add the correct variable here\n",
    "                        \"hometown\": \"Town\", # add the correct variable here\n",
    "                        \"another_category\": \"Another Category\"\n",
    "        \n",
    "    })\n",
    "    "
   ]
  },
  {
   "cell_type": "code",
   "execution_count": 32,
   "metadata": {},
   "outputs": [
    {
     "data": {
      "text/html": [
       "<div>\n",
       "<style scoped>\n",
       "    .dataframe tbody tr th:only-of-type {\n",
       "        vertical-align: middle;\n",
       "    }\n",
       "\n",
       "    .dataframe tbody tr th {\n",
       "        vertical-align: top;\n",
       "    }\n",
       "\n",
       "    .dataframe thead th {\n",
       "        text-align: right;\n",
       "    }\n",
       "</style>\n",
       "<table border=\"1\" class=\"dataframe\">\n",
       "  <thead>\n",
       "    <tr style=\"text-align: right;\">\n",
       "      <th></th>\n",
       "      <th>name</th>\n",
       "      <th>age</th>\n",
       "      <th>birthday</th>\n",
       "      <th>occupation</th>\n",
       "      <th>hometown</th>\n",
       "      <th>another_category</th>\n",
       "    </tr>\n",
       "  </thead>\n",
       "  <tbody>\n",
       "    <tr>\n",
       "      <th>0</th>\n",
       "      <td>Person</td>\n",
       "      <td>25</td>\n",
       "      <td>Birthday</td>\n",
       "      <td>Job</td>\n",
       "      <td>Town</td>\n",
       "      <td>Another Category</td>\n",
       "    </tr>\n",
       "    <tr>\n",
       "      <th>1</th>\n",
       "      <td>Person</td>\n",
       "      <td>25</td>\n",
       "      <td>Birthday</td>\n",
       "      <td>Job</td>\n",
       "      <td>Town</td>\n",
       "      <td>Another Category</td>\n",
       "    </tr>\n",
       "  </tbody>\n",
       "</table>\n",
       "</div>"
      ],
      "text/plain": [
       "     name  age  birthday occupation hometown  another_category\n",
       "0  Person   25  Birthday        Job     Town  Another Category\n",
       "1  Person   25  Birthday        Job     Town  Another Category"
      ]
     },
     "execution_count": 32,
     "metadata": {},
     "output_type": "execute_result"
    }
   ],
   "source": [
    "pd.DataFrame(dicts_to_df)"
   ]
  },
  {
   "cell_type": "markdown",
   "metadata": {},
   "source": [
    "# Bonus!"
   ]
  },
  {
   "cell_type": "markdown",
   "metadata": {},
   "source": [
    "If you complete any of these bonus challenges, share in #code-sharing on Discord!"
   ]
  },
  {
   "cell_type": "markdown",
   "metadata": {},
   "source": [
    "## Bonus 1: Inconsistent Formats"
   ]
  },
  {
   "cell_type": "markdown",
   "metadata": {},
   "source": [
    "Now let's see if you can write Python code that will extract the same info and create a dataframe with the following URLs.\n",
    "\n",
    "Hint: one of these URLs might have a different web page format, which could cause problems with your code..."
   ]
  },
  {
   "cell_type": "code",
   "execution_count": 20,
   "metadata": {},
   "outputs": [],
   "source": [
    "tough_wiki_urls = [\"https://loveisland.fandom.com/wiki/Jack_Fincham\", \n",
    "             \"https://loveisland.fandom.com/wiki/Olivia_Attwood\",\n",
    "             \"https://loveisland.fandom.com/wiki/Justyna_Walczak\"]"
   ]
  },
  {
   "cell_type": "code",
   "execution_count": 31,
   "metadata": {},
   "outputs": [],
   "source": [
    "# empty list that will become a dataframe\n",
    "dicts_to_df = []\n",
    "\n",
    "\n",
    "for wiki_url in wiki_urls:\n",
    "    \n",
    "    # Name\n",
    "    \n",
    "    \n",
    "    # Age\n",
    "    \n",
    "    \n",
    "     # Birthday\n",
    "    \n",
    "    \n",
    "    # Occupation\n",
    "    \n",
    "    \n",
    "    # Hometown\n",
    "    \n",
    "    \n",
    "    # Another Category\n",
    "    \n",
    "    \n",
    "    \n",
    "    dicts_to_df.append({\"name\": \"Person\", # add the correct variable here\n",
    "                        \"age\": 25, # add the correct variable here\n",
    "                        \"birthday\": \"Birthday\", # add the correct variable here\n",
    "                        \"occupation\": \"Job\", # add the correct variable here\n",
    "                        \"hometown\": \"Town\", # add the correct variable here\n",
    "                        \"another_category\": \"Another Category\"\n",
    "        \n",
    "    })\n",
    "    "
   ]
  },
  {
   "cell_type": "code",
   "execution_count": 32,
   "metadata": {},
   "outputs": [
    {
     "data": {
      "text/html": [
       "<div>\n",
       "<style scoped>\n",
       "    .dataframe tbody tr th:only-of-type {\n",
       "        vertical-align: middle;\n",
       "    }\n",
       "\n",
       "    .dataframe tbody tr th {\n",
       "        vertical-align: top;\n",
       "    }\n",
       "\n",
       "    .dataframe thead th {\n",
       "        text-align: right;\n",
       "    }\n",
       "</style>\n",
       "<table border=\"1\" class=\"dataframe\">\n",
       "  <thead>\n",
       "    <tr style=\"text-align: right;\">\n",
       "      <th></th>\n",
       "      <th>name</th>\n",
       "      <th>age</th>\n",
       "      <th>birthday</th>\n",
       "      <th>occupation</th>\n",
       "      <th>hometown</th>\n",
       "      <th>another_category</th>\n",
       "    </tr>\n",
       "  </thead>\n",
       "  <tbody>\n",
       "    <tr>\n",
       "      <th>0</th>\n",
       "      <td>Person</td>\n",
       "      <td>25</td>\n",
       "      <td>Birthday</td>\n",
       "      <td>Job</td>\n",
       "      <td>Town</td>\n",
       "      <td>Another Category</td>\n",
       "    </tr>\n",
       "    <tr>\n",
       "      <th>1</th>\n",
       "      <td>Person</td>\n",
       "      <td>25</td>\n",
       "      <td>Birthday</td>\n",
       "      <td>Job</td>\n",
       "      <td>Town</td>\n",
       "      <td>Another Category</td>\n",
       "    </tr>\n",
       "  </tbody>\n",
       "</table>\n",
       "</div>"
      ],
      "text/plain": [
       "     name  age  birthday occupation hometown  another_category\n",
       "0  Person   25  Birthday        Job     Town  Another Category\n",
       "1  Person   25  Birthday        Job     Town  Another Category"
      ]
     },
     "execution_count": 32,
     "metadata": {},
     "output_type": "execute_result"
    }
   ],
   "source": [
    "pd.DataFrame(dicts_to_df)"
   ]
  },
  {
   "cell_type": "markdown",
   "metadata": {},
   "source": [
    "## Bonus 2: Scrape It All!"
   ]
  },
  {
   "cell_type": "markdown",
   "metadata": {},
   "source": [
    "Now, for the final boss challenge, see if you can scrape info for ALL of the Love Island contestants.\n",
    "\n",
    "You should be able to find URLs for all the contestants here: https://loveisland.fandom.com/wiki/Category:Islanders \n",
    "\n",
    "However, not all URLs will be visible from this page, so you might need to find a way to navigate to other pages...\n",
    "\n",
    "The code below is included to help you, in case you need it. This is one way of looping through letters A-Z."
   ]
  },
  {
   "cell_type": "code",
   "execution_count": 35,
   "metadata": {},
   "outputs": [],
   "source": [
    "def range_char(start, stop):\n",
    "    return (chr(n) for n in range(ord(start), ord(stop) + 1))"
   ]
  },
  {
   "cell_type": "code",
   "execution_count": 38,
   "metadata": {
    "scrolled": true,
    "tags": []
   },
   "outputs": [
    {
     "name": "stdout",
     "output_type": "stream",
     "text": [
      "A\n",
      "B\n",
      "C\n",
      "D\n",
      "E\n",
      "F\n",
      "G\n",
      "H\n",
      "I\n",
      "J\n",
      "K\n",
      "L\n",
      "M\n",
      "N\n",
      "O\n",
      "P\n",
      "Q\n",
      "R\n",
      "S\n",
      "T\n",
      "U\n",
      "V\n",
      "W\n",
      "X\n",
      "Y\n",
      "Z\n"
     ]
    }
   ],
   "source": [
    "for letter in range_char(\"A\", \"Z\"):\n",
    "    print(letter)"
   ]
  },
  {
   "cell_type": "code",
   "execution_count": null,
   "metadata": {},
   "outputs": [],
   "source": [
    "# Your code here\n",
    "\n",
    "\n",
    "\n",
    "\n"
   ]
  }
 ],
 "metadata": {
  "kernelspec": {
   "display_name": "Python 3",
   "language": "python",
   "name": "python3"
  },
  "language_info": {
   "codemirror_mode": {
    "name": "ipython",
    "version": 3
   },
   "file_extension": ".py",
   "mimetype": "text/x-python",
   "name": "python",
   "nbconvert_exporter": "python",
   "pygments_lexer": "ipython3",
   "version": "3.8.8"
  }
 },
 "nbformat": 4,
 "nbformat_minor": 4
}
