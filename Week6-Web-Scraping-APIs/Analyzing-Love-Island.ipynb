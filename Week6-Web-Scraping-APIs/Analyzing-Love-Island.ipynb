{
 "cells": [
  {
   "cell_type": "markdown",
   "id": "eb8ba7c4-50c0-4334-aae7-f7f888c5b98d",
   "metadata": {},
   "source": [
    "# Analyzing Love Island Contestant Info"
   ]
  },
  {
   "cell_type": "code",
   "execution_count": 1,
   "id": "c8f90181-e6de-4534-948b-23bfae6600fd",
   "metadata": {},
   "outputs": [],
   "source": [
    "import pandas as pd"
   ]
  },
  {
   "cell_type": "code",
   "execution_count": 16,
   "id": "0748f2d4-22d7-4d08-967e-faa81fc777ba",
   "metadata": {},
   "outputs": [],
   "source": [
    "messy_df = pd.read_csv(\"Love-Island-Contestants-Messy.csv\")"
   ]
  },
  {
   "cell_type": "code",
   "execution_count": null,
   "id": "498cf94e-ce52-40e6-8d3f-c7286c4e4631",
   "metadata": {},
   "outputs": [],
   "source": [
    "messy_df['age']"
   ]
  },
  {
   "cell_type": "code",
   "execution_count": null,
   "id": "2e733368-9245-482c-8dd5-1ec4ede63476",
   "metadata": {},
   "outputs": [],
   "source": [
    "messy_df['age'].mean()"
   ]
  },
  {
   "cell_type": "markdown",
   "id": "eb2031cc-a0f9-4226-8569-588df03fc9d1",
   "metadata": {},
   "source": [
    "# What's wrong?"
   ]
  },
  {
   "cell_type": "code",
   "execution_count": null,
   "id": "ae877577-e52e-4cb4-a50d-de28ce65b50c",
   "metadata": {},
   "outputs": [],
   "source": [
    "messy_df[messy_df['age'] == \"January 4, 1993\"]"
   ]
  },
  {
   "cell_type": "markdown",
   "id": "d0cd4189-81a6-472f-8090-268ee662bea4",
   "metadata": {},
   "source": [
    "Fix an incorrect record"
   ]
  },
  {
   "cell_type": "code",
   "execution_count": 35,
   "id": "2661cf73-19ad-4c5d-b788-222208891939",
   "metadata": {},
   "outputs": [],
   "source": [
    "messy_df.loc[386]['birthday'] = \"January 4, 1993\"\n",
    "messy_df.loc[386]['age'] = 30"
   ]
  },
  {
   "cell_type": "markdown",
   "id": "eaf1ffaa-048d-4697-9768-44b68d00cf3d",
   "metadata": {},
   "source": [
    "# Convert None into NaN"
   ]
  },
  {
   "cell_type": "code",
   "execution_count": 65,
   "id": "82466f16-c8e8-45b9-bef2-a7c04ca0033f",
   "metadata": {},
   "outputs": [],
   "source": [
    "#import numpy as np"
   ]
  },
  {
   "cell_type": "code",
   "execution_count": 66,
   "id": "4cce1559-037c-4380-b2ae-5f903235ccf6",
   "metadata": {},
   "outputs": [],
   "source": [
    "#love_island = love_island.fillna(value=np.nan)"
   ]
  },
  {
   "cell_type": "markdown",
   "id": "ac00964a-4d16-4d35-abbc-0b0c3bbcc777",
   "metadata": {},
   "source": [
    "# Handle NaNs by Converting to Float"
   ]
  },
  {
   "cell_type": "code",
   "execution_count": 36,
   "id": "252e10dc-af02-4542-9a27-93d6e1273262",
   "metadata": {},
   "outputs": [],
   "source": [
    "messy_df['age'] = messy_df['age'].astype(float)"
   ]
  },
  {
   "cell_type": "markdown",
   "id": "a3c202b4-a7fc-4eaf-b16c-b7cd755680e3",
   "metadata": {},
   "source": [
    "## What is the average age of contestants?"
   ]
  },
  {
   "cell_type": "code",
   "execution_count": null,
   "id": "fb34083a-8b75-4e46-946e-fce934bd6bf3",
   "metadata": {},
   "outputs": [],
   "source": []
  },
  {
   "cell_type": "markdown",
   "id": "e84a526e-a3e1-4b7a-95ed-28a4164b6878",
   "metadata": {},
   "source": [
    "## What are the most common professions?"
   ]
  },
  {
   "cell_type": "code",
   "execution_count": null,
   "id": "38dd7fc3-803c-4335-b2cd-c8c9f141ee7c",
   "metadata": {},
   "outputs": [],
   "source": []
  },
  {
   "cell_type": "markdown",
   "id": "83a80229-6097-4a9b-ba96-3c761fbe8892",
   "metadata": {},
   "source": [
    "## What are the most common zodiac signs?"
   ]
  },
  {
   "cell_type": "code",
   "execution_count": null,
   "id": "c2e159ef-5951-46ad-9955-ab34c50fb2dc",
   "metadata": {},
   "outputs": [],
   "source": [
    "clean_df = pd.read_csv(\"Love-Island-Contestants-Clean.csv\")"
   ]
  }
 ],
 "metadata": {
  "kernelspec": {
   "display_name": "Python 3",
   "language": "python",
   "name": "python3"
  },
  "language_info": {
   "codemirror_mode": {
    "name": "ipython",
    "version": 3
   },
   "file_extension": ".py",
   "mimetype": "text/x-python",
   "name": "python",
   "nbconvert_exporter": "python",
   "pygments_lexer": "ipython3",
   "version": "3.8.8"
  }
 },
 "nbformat": 4,
 "nbformat_minor": 5
}
