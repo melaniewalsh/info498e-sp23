{
 "cells": [
  {
   "cell_type": "markdown",
   "metadata": {},
   "source": [
    "# Song Genius API"
   ]
  },
  {
   "cell_type": "markdown",
   "metadata": {},
   "source": [
    "In this lesson, we're going to use the Genius API to access data about Missy Elliott songs."
   ]
  },
  {
   "cell_type": "markdown",
   "metadata": {},
   "source": [
    "## API Keys"
   ]
  },
  {
   "cell_type": "markdown",
   "metadata": {},
   "source": [
    "To use the Genius API, you need a special API key, specifically a \"Client Access Token\", which is kind of like a password. Many APIs require authentication keys to gain access to them. To get your necessary Genius API keys, you need to navigate to the following URL: [https://genius.com/api-clients](https://genius.com/api-clients)."
   ]
  },
  {
   "cell_type": "markdown",
   "metadata": {},
   "source": [
    "<img src=\"../images/Genius-API.png\" width=100% >"
   ]
  },
  {
   "cell_type": "markdown",
   "metadata": {},
   "source": [
    "You'll be prompted to sign up for [a Genius account](https://genius.com/signup_or_login), which is required to gain API access. Signing up for a Genius account is free and easy. You just need a Genius nickname (which must be one word), an email address, and a password."
   ]
  },
  {
   "cell_type": "markdown",
   "metadata": {},
   "source": [
    "Once you're signed in, you should be taken to [https://genius.com/api-clients](https://genius.com/api-clients), where you need to click the button that says \"New API Client.\""
   ]
  },
  {
   "cell_type": "markdown",
   "metadata": {},
   "source": [
    "<img src=\"../images/Genius-New-API.png\" width=100% >"
   ]
  },
  {
   "cell_type": "markdown",
   "metadata": {},
   "source": [
    "After clicking \"New API Client,\" you'll be prompted to fill out a short form about the \"App\" that you need the Genius API for. You only need to fill out \"App Name\" and \"App Website URL.\""
   ]
  },
  {
   "cell_type": "markdown",
   "metadata": {},
   "source": [
    "It doesn't really matter what you type in. You can simply put \"Song Lyrics Project\" for the \"App Name\" and the URL for our course website \"https://melaniewalsh.github.io/Intro-Cultural-Analytics/\" for the \"App Website URL.\""
   ]
  },
  {
   "cell_type": "markdown",
   "metadata": {},
   "source": [
    "When you click \"Save,\" you'll be given a series of API Keys: a \"Client ID\" and a \"Client Secret.\" To generate your \"Client Access Token,\" which is the API key that we'll be using in this notebook, you need to click \"Generate Access Token\"."
   ]
  },
  {
   "cell_type": "markdown",
   "metadata": {},
   "source": [
    "Finally, copy and paste your \"Client Access Token\" into the quotation marks below, and run the cell to save your variable "
   ]
  },
  {
   "cell_type": "code",
   "execution_count": null,
   "metadata": {},
   "outputs": [],
   "source": [
    "client_access_token = \"INSERT YOUR CLIENT ACCESS TOKEN IN THESE QUOTATION MARKS\""
   ]
  },
  {
   "cell_type": "markdown",
   "metadata": {},
   "source": [
    "## Making an API Request"
   ]
  },
  {
   "cell_type": "markdown",
   "metadata": {},
   "source": [
    "Making an API request looks a lot like typing a specially-formatted URL. But instead of getting a rendered HTML web page in return, you get some data in return.\n",
    "\n",
    "There are a few different ways that we can query the Genius API, all of which are discussed in the [Genius API documentation](https://docs.genius.com/#songs-h2). The way we're going to cover in this lesson is [the basic search](https://docs.genius.com/#search-h2), which allows you to get a bunch of Genius data about any artist or songs that you search for:"
   ]
  },
  {
   "cell_type": "markdown",
   "metadata": {},
   "source": [
    "`http://api.genius.com/search?q={search_term}&access_token={client_access_token}`"
   ]
  },
  {
   "cell_type": "markdown",
   "metadata": {},
   "source": [
    "Sticking with our Missy Elliott theme/obsession, we're going to search for Genius data about Missy Elliott.\n",
    "\n",
    "First we're going to assign the string \"Missy Elliott\" to the variable `search_term`. Then we're going to make an f-string URL that contains the variables `search_term` and `client_access_token`."
   ]
  },
  {
   "cell_type": "code",
   "execution_count": 48,
   "metadata": {},
   "outputs": [],
   "source": [
    "search_term = \"Missy Elliott\""
   ]
  },
  {
   "cell_type": "code",
   "execution_count": 49,
   "metadata": {},
   "outputs": [],
   "source": [
    "genius_search_url = f\"http://api.genius.com/search?q={search_term}&access_token={client_access_token}\""
   ]
  },
  {
   "cell_type": "markdown",
   "metadata": {},
   "source": [
    "This URL is basically all we need to make a Genius API request. Want proof? Run the cell below and print this URL, then copy and paste it into a new tab in your web browser."
   ]
  },
  {
   "cell_type": "code",
   "execution_count": 50,
   "metadata": {},
   "outputs": [
    {
     "name": "stdout",
     "output_type": "stream",
     "text": [
      "http://api.genius.com/search?q=Missy Elliott&access_token=Gu128xQL6JFEIA8JRuX9v9zIlnsh12GqEwBJnrYldKuNj0ZEoknaqgJNSGFjGjtz\n"
     ]
    }
   ],
   "source": [
    "print(genius_search_url)"
   ]
  },
  {
   "cell_type": "markdown",
   "metadata": {},
   "source": [
    "It doesn't look pretty, but that's a bunch of Genius data about Missy Elliott!\n",
    "\n",
    "We can programmatically do the same thing by again using the Python library `requests` with this URL. Instead of getting the `.text` of the response, as we did before, we're going to use `.json()`.\n",
    "\n",
    "[JSON](https://www.w3schools.com/whatis/whatis_json.asp) is a data format that is commonly used by APIs. JSON data can be nested and contains key/value pairs, much like a Python dictionary."
   ]
  },
  {
   "cell_type": "code",
   "execution_count": 51,
   "metadata": {},
   "outputs": [],
   "source": [
    "import requests"
   ]
  },
  {
   "cell_type": "code",
   "execution_count": 52,
   "metadata": {},
   "outputs": [
    {
     "data": {
      "text/plain": [
       "<Response [403]>"
      ]
     },
     "execution_count": 52,
     "metadata": {},
     "output_type": "execute_result"
    }
   ],
   "source": [
    "response"
   ]
  },
  {
   "cell_type": "code",
   "execution_count": null,
   "metadata": {
    "scrolled": true,
    "tags": []
   },
   "outputs": [],
   "source": [
    "response = requests.get(genius_search_url)\n",
    "json_data = response.json()"
   ]
  },
  {
   "cell_type": "markdown",
   "metadata": {},
   "source": [
    "The JSON data that we get from our Missy Elliott API query looks something like this:"
   ]
  },
  {
   "cell_type": "code",
   "execution_count": null,
   "metadata": {
    "scrolled": true,
    "tags": [
     "output_scroll"
    ]
   },
   "outputs": [],
   "source": [
    "json_data"
   ]
  },
  {
   "cell_type": "markdown",
   "metadata": {},
   "source": [
    "We can index this data (again, like a Python dictionary) and look at the first \"hit\" about Missy Elliott from Genius.com."
   ]
  },
  {
   "cell_type": "code",
   "execution_count": 10,
   "metadata": {},
   "outputs": [
    {
     "data": {
      "text/plain": [
       "{'highlights': [],\n",
       " 'index': 'song',\n",
       " 'type': 'song',\n",
       " 'result': {'annotation_count': 32,\n",
       "  'api_path': '/songs/4176',\n",
       "  'full_title': 'Work It by\\xa0Missy\\xa0Elliott',\n",
       "  'header_image_thumbnail_url': 'https://images.genius.com/27c1fbfef17041b435302af288cfa0c6.300x311x1.jpg',\n",
       "  'header_image_url': 'https://images.genius.com/27c1fbfef17041b435302af288cfa0c6.482x500x1.jpg',\n",
       "  'id': 4176,\n",
       "  'lyrics_owner_id': 6654,\n",
       "  'lyrics_state': 'complete',\n",
       "  'path': '/Missy-elliott-work-it-lyrics',\n",
       "  'pyongs_count': 39,\n",
       "  'song_art_image_thumbnail_url': 'https://images.genius.com/27c1fbfef17041b435302af288cfa0c6.300x311x1.jpg',\n",
       "  'song_art_image_url': 'https://images.genius.com/27c1fbfef17041b435302af288cfa0c6.482x500x1.jpg',\n",
       "  'stats': {'unreviewed_annotations': 2, 'hot': False, 'pageviews': 1205121},\n",
       "  'title': 'Work It',\n",
       "  'title_with_featured': 'Work It',\n",
       "  'url': 'https://genius.com/Missy-elliott-work-it-lyrics',\n",
       "  'song_art_primary_color': '#d63220',\n",
       "  'song_art_secondary_color': '#512913',\n",
       "  'song_art_text_color': '#fff',\n",
       "  'primary_artist': {'api_path': '/artists/1529',\n",
       "   'header_image_url': 'https://images.genius.com/d91c82fa4ae2f1016fadc1c24fbbc59e.1000x333x1.jpg',\n",
       "   'id': 1529,\n",
       "   'image_url': 'https://images.genius.com/085828b7d79bf8cf068b1557ca7a5e4c.1000x1000x1.jpg',\n",
       "   'is_meme_verified': False,\n",
       "   'is_verified': False,\n",
       "   'name': 'Missy Elliott',\n",
       "   'url': 'https://genius.com/artists/Missy-elliott'}}}"
      ]
     },
     "execution_count": 10,
     "metadata": {},
     "output_type": "execute_result"
    }
   ],
   "source": [
    "json_data['response']['hits'][0]"
   ]
  },
  {
   "cell_type": "markdown",
   "metadata": {},
   "source": [
    "We can tell that this data describes the song \"Work It\" and contains other information about the song, such as its number of Genius annotations, its number of web page views, and links to images of its album cover."
   ]
  }
 ],
 "metadata": {
  "kernelspec": {
   "display_name": "Python 3",
   "language": "python",
   "name": "python3"
  },
  "language_info": {
   "codemirror_mode": {
    "name": "ipython",
    "version": 3
   },
   "file_extension": ".py",
   "mimetype": "text/x-python",
   "name": "python",
   "nbconvert_exporter": "python",
   "pygments_lexer": "ipython3",
   "version": "3.8.8"
  }
 },
 "nbformat": 4,
 "nbformat_minor": 4
}
